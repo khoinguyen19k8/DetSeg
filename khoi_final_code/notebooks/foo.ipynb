{
 "cells": [
  {
   "cell_type": "code",
   "execution_count": 25,
   "id": "e5d9af39-f516-46ab-a1ef-db149ea3b20e",
   "metadata": {},
   "outputs": [],
   "source": [
    "import re\n",
    "from pathlib import Path"
   ]
  },
  {
   "cell_type": "code",
   "execution_count": 22,
   "id": "71664fe0-8936-49f5-b5df-1cc64a29b2c6",
   "metadata": {},
   "outputs": [
    {
     "name": "stdout",
     "output_type": "stream",
     "text": [
      "khoi\n",
      "khoi\n",
      "khoi\n"
     ]
    }
   ],
   "source": [
    "files = [\"khoi_0001.png\", \"khoi_0002.png\", \"khoi_0003.png\", \"kiet_0000.png\", \"kiet_0001.png\", \"kiet_0003.png\"]\n",
    "target = \"khoi\"\n",
    "pattern = re.compile(rf\"{target}\")\n",
    "for file in files:\n",
    "    tmp = re.search(pattern, file)\n",
    "    if tmp:\n",
    "        print(tmp.group(0))"
   ]
  },
  {
   "cell_type": "code",
   "execution_count": 15,
   "id": "57bf1fac-2b99-40c3-a82d-3b7726f632b2",
   "metadata": {},
   "outputs": [
    {
     "data": {
      "text/plain": [
       "re.compile(r'khoi_[0-9]4.png', re.UNICODE)"
      ]
     },
     "execution_count": 15,
     "metadata": {},
     "output_type": "execute_result"
    }
   ],
   "source": [
    "pattern"
   ]
  },
  {
   "cell_type": "code",
   "execution_count": 17,
   "id": "d4b6e3d2-a281-49ff-a3e9-13c0332f98e0",
   "metadata": {},
   "outputs": [
    {
     "ename": "FileNotFoundError",
     "evalue": "[Errno 2] No such file or directory: './demo1/foo.txt'",
     "output_type": "error",
     "traceback": [
      "\u001b[0;31m---------------------------------------------------------------------------\u001b[0m",
      "\u001b[0;31mFileNotFoundError\u001b[0m                         Traceback (most recent call last)",
      "Input \u001b[0;32mIn [17]\u001b[0m, in \u001b[0;36m<cell line: 1>\u001b[0;34m()\u001b[0m\n\u001b[0;32m----> 1\u001b[0m \u001b[38;5;28;01mwith\u001b[39;00m \u001b[38;5;28;43mopen\u001b[39;49m\u001b[43m(\u001b[49m\u001b[38;5;124;43m\"\u001b[39;49m\u001b[38;5;124;43m./demo1/foo.txt\u001b[39;49m\u001b[38;5;124;43m\"\u001b[39;49m\u001b[43m,\u001b[49m\u001b[43m \u001b[49m\u001b[38;5;124;43m\"\u001b[39;49m\u001b[38;5;124;43mw\u001b[39;49m\u001b[38;5;124;43m\"\u001b[39;49m\u001b[43m)\u001b[49m \u001b[38;5;28;01mas\u001b[39;00m f:\n\u001b[1;32m      2\u001b[0m     \u001b[38;5;28;01mpass\u001b[39;00m\n",
      "\u001b[0;31mFileNotFoundError\u001b[0m: [Errno 2] No such file or directory: './demo1/foo.txt'"
     ]
    }
   ],
   "source": [
    "with open(\"./demo1/foo.txt\", \"w\") as f:\n",
    "    pass"
   ]
  },
  {
   "cell_type": "code",
   "execution_count": 35,
   "id": "e875548a-3f66-46d3-887b-c662fc75811d",
   "metadata": {},
   "outputs": [],
   "source": [
    "pattern = r'CTP[0-9]{2}_00[1|2]_0000'"
   ]
  },
  {
   "cell_type": "code",
   "execution_count": 38,
   "id": "8cf94a42-99e2-4eee-82ba-cf2a00752ff1",
   "metadata": {},
   "outputs": [
    {
     "data": {
      "text/plain": [
       "'CTP02_001_0000'"
      ]
     },
     "execution_count": 38,
     "metadata": {},
     "output_type": "execute_result"
    }
   ],
   "source": [
    "re.search(pattern, 'CTP02_001_0000').group(0)"
   ]
  },
  {
   "cell_type": "code",
   "execution_count": 30,
   "id": "6d292188-1fa8-43a7-9bed-15a69d7765de",
   "metadata": {},
   "outputs": [
    {
     "data": {
      "text/plain": [
       "['khoi_0001', 'khoi_0002', 'khoi_0003', 'kiet_0000', 'kiet_0001', 'kiet_0003']"
      ]
     },
     "execution_count": 30,
     "metadata": {},
     "output_type": "execute_result"
    }
   ],
   "source": [
    "[Path(file).stem for file in files]"
   ]
  },
  {
   "cell_type": "code",
   "execution_count": 42,
   "id": "da0610ce-1641-41d3-9021-456bdf864ca1",
   "metadata": {},
   "outputs": [
    {
     "data": {
      "text/plain": [
       "['foo_00.txt',\n",
       " 'foo_07.txt',\n",
       " 'foo_09.txt',\n",
       " 'foo_08.txt',\n",
       " 'foo_06.txt',\n",
       " 'foo_01.txt',\n",
       " 'foo_02.txt',\n",
       " 'foo_05.txt',\n",
       " 'foo_04.txt',\n",
       " 'foo_03.txt']"
      ]
     },
     "execution_count": 42,
     "metadata": {},
     "output_type": "execute_result"
    }
   ],
   "source": [
    "import os\n",
    "\n",
    "ROOT = '/wecare/home/khoi/thesis'\n",
    "FOO = os.path.join(ROOT, 'foo')\n",
    "\n",
    "os.mkdir(FOO)\n",
    "for i in range(10):\n",
    "    file = os.path.join(FOO, f\"foo_{i:02}.txt\")\n",
    "    os.system(f\"touch {file}\")\n",
    "os.listdir(FOO)"
   ]
  },
  {
   "cell_type": "code",
   "execution_count": 1,
   "id": "fedd8fda-6d44-4026-9052-63a3bdd32801",
   "metadata": {},
   "outputs": [
    {
     "name": "stderr",
     "output_type": "stream",
     "text": [
      "100%|███████████████████████████████████████████████████████████████████████████████████████████████████████████████████████████████████████████████████████| 10/10 [00:00<00:00, 3285.53it/s]\n"
     ]
    }
   ],
   "source": [
    "from utils import data_split\n",
    "import os\n",
    "\n",
    "ROOT = '/wecare/home/khoi/thesis'\n",
    "FOO = os.path.join(ROOT, 'foo')\n",
    "data_split.split_data(FOO, r'foo_[0-9]{2}', ['foo_00','foo_07','foo_09','foo_08','foo_06'])"
   ]
  },
  {
   "cell_type": "code",
   "execution_count": 2,
   "id": "624aedf3-76f3-4504-87b2-02f5b1c40a1e",
   "metadata": {},
   "outputs": [],
   "source": [
    "import os\n",
    "a = ['foo_00.txt', 'foo_07.txt', 'foo_09.txt', 'foo_08.txt', 'foo_06.txt', 'foo_01.txt', 'foo_02.txt', 'foo_05.txt', 'foo_04.txt', 'foo_03.txt']"
   ]
  },
  {
   "cell_type": "code",
   "execution_count": 4,
   "id": "b0fcfd2f-398e-438e-8d82-845288716b0b",
   "metadata": {},
   "outputs": [
    {
     "data": {
      "text/plain": [
       "False"
      ]
     },
     "execution_count": 4,
     "metadata": {},
     "output_type": "execute_result"
    }
   ],
   "source": [
    "os.path.isdir('foo_00.txt')"
   ]
  },
  {
   "cell_type": "code",
   "execution_count": 1,
   "id": "14f95974-f001-4333-9472-76bb59a87ab9",
   "metadata": {},
   "outputs": [],
   "source": [
    "import re\n",
    "\n",
    "a = [\"CTP02_001_0000\",\"CTP04_001_0000\",\"CTP07_001_0000\",\"CTP100_001_0000\",\"CTP10_001_0000\",\"CTP102_001_0000\",\"CTP12_001_0000\",\"CTP15_001_0000\",\"CTP15_002_0000\",\"CTP20_001_0000\"]\n",
    "b = list(map(lambda x: re.search(r'CTP[0-9]{2,3}_00[1|2]', x).group(0), a))"
   ]
  },
  {
   "cell_type": "code",
   "execution_count": 2,
   "id": "90bda38b-f691-4f81-9e1e-4c5a98951295",
   "metadata": {},
   "outputs": [
    {
     "data": {
      "text/plain": [
       "['CTP02_001',\n",
       " 'CTP04_001',\n",
       " 'CTP07_001',\n",
       " 'CTP100_001',\n",
       " 'CTP10_001',\n",
       " 'CTP102_001',\n",
       " 'CTP12_001',\n",
       " 'CTP15_001',\n",
       " 'CTP15_002',\n",
       " 'CTP20_001']"
      ]
     },
     "execution_count": 2,
     "metadata": {},
     "output_type": "execute_result"
    }
   ],
   "source": [
    "b"
   ]
  },
  {
   "cell_type": "code",
   "execution_count": 2,
   "id": "461ab483-e88a-4dff-b606-7156ba2d1101",
   "metadata": {},
   "outputs": [
    {
     "data": {
      "text/html": [
       "<div>\n",
       "<style scoped>\n",
       "    .dataframe tbody tr th:only-of-type {\n",
       "        vertical-align: middle;\n",
       "    }\n",
       "\n",
       "    .dataframe tbody tr th {\n",
       "        vertical-align: top;\n",
       "    }\n",
       "\n",
       "    .dataframe thead th {\n",
       "        text-align: right;\n",
       "    }\n",
       "</style>\n",
       "<table border=\"1\" class=\"dataframe\">\n",
       "  <thead>\n",
       "    <tr style=\"text-align: right;\">\n",
       "      <th></th>\n",
       "      <th>test_instances</th>\n",
       "    </tr>\n",
       "  </thead>\n",
       "  <tbody>\n",
       "    <tr>\n",
       "      <th>0</th>\n",
       "      <td>CTP48_001_0000</td>\n",
       "    </tr>\n",
       "    <tr>\n",
       "      <th>1</th>\n",
       "      <td>CTP97_001_0000</td>\n",
       "    </tr>\n",
       "    <tr>\n",
       "      <th>2</th>\n",
       "      <td>CTP81_001_0000</td>\n",
       "    </tr>\n",
       "    <tr>\n",
       "      <th>3</th>\n",
       "      <td>CTP02_001_0000</td>\n",
       "    </tr>\n",
       "    <tr>\n",
       "      <th>4</th>\n",
       "      <td>CTP68_001_0000</td>\n",
       "    </tr>\n",
       "    <tr>\n",
       "      <th>5</th>\n",
       "      <td>CTP12_001_0000</td>\n",
       "    </tr>\n",
       "    <tr>\n",
       "      <th>6</th>\n",
       "      <td>CTP57_002_0000</td>\n",
       "    </tr>\n",
       "    <tr>\n",
       "      <th>7</th>\n",
       "      <td>CTP73_001_0000</td>\n",
       "    </tr>\n",
       "    <tr>\n",
       "      <th>8</th>\n",
       "      <td>CTP04_001_0000</td>\n",
       "    </tr>\n",
       "    <tr>\n",
       "      <th>9</th>\n",
       "      <td>CTP59_001_0000</td>\n",
       "    </tr>\n",
       "    <tr>\n",
       "      <th>10</th>\n",
       "      <td>CTP91_001_0000</td>\n",
       "    </tr>\n",
       "  </tbody>\n",
       "</table>\n",
       "</div>"
      ],
      "text/plain": [
       "    test_instances\n",
       "0   CTP48_001_0000\n",
       "1   CTP97_001_0000\n",
       "2   CTP81_001_0000\n",
       "3   CTP02_001_0000\n",
       "4   CTP68_001_0000\n",
       "5   CTP12_001_0000\n",
       "6   CTP57_002_0000\n",
       "7   CTP73_001_0000\n",
       "8   CTP04_001_0000\n",
       "9   CTP59_001_0000\n",
       "10  CTP91_001_0000"
      ]
     },
     "execution_count": 2,
     "metadata": {},
     "output_type": "execute_result"
    }
   ],
   "source": [
    "import pandas as pd\n",
    "df = pd.read_csv(\"test_instances_id.csv\")\n",
    "df"
   ]
  },
  {
   "cell_type": "code",
   "execution_count": 7,
   "id": "bd274bc9-344d-4238-af9a-cf4713cab831",
   "metadata": {},
   "outputs": [
    {
     "data": {
      "text/plain": [
       "['CTP48_001_0000',\n",
       " 'CTP97_001_0000',\n",
       " 'CTP81_001_0000',\n",
       " 'CTP02_001_0000',\n",
       " 'CTP68_001_0000',\n",
       " 'CTP12_001_0000',\n",
       " 'CTP57_002_0000',\n",
       " 'CTP73_001_0000',\n",
       " 'CTP04_001_0000',\n",
       " 'CTP59_001_0000',\n",
       " 'CTP91_001_0000']"
      ]
     },
     "execution_count": 7,
     "metadata": {},
     "output_type": "execute_result"
    }
   ],
   "source": [
    "list(pd.read_csv(\"test_instances_id.csv\").iloc[:,0])"
   ]
  },
  {
   "cell_type": "code",
   "execution_count": 9,
   "id": "b49be0af-387f-433e-8b7d-d0e24085cce2",
   "metadata": {},
   "outputs": [
    {
     "data": {
      "text/plain": [
       "{1, 3, 5, 6, 7, 8, 9}"
      ]
     },
     "execution_count": 9,
     "metadata": {},
     "output_type": "execute_result"
    }
   ],
   "source": [
    "a = set([0,1,2,3,4,5,6,7,8,9])\n",
    "b = set([0,2,4])\n",
    "a.difference(b)"
   ]
  },
  {
   "cell_type": "code",
   "execution_count": 12,
   "id": "f30ffa1b-f763-46c2-8738-475e7833dfed",
   "metadata": {},
   "outputs": [],
   "source": [
    "def split(a, n):\n",
    "    k, m = divmod(len(a), n)\n",
    "    return (a[i*k+min(i, m):(i+1)*k+min(i+1, m)] for i in range(n))"
   ]
  },
  {
   "cell_type": "code",
   "execution_count": 32,
   "id": "b2e653d3-0bc7-43c7-ad87-ed368e5d3833",
   "metadata": {},
   "outputs": [],
   "source": [
    "c = list(pd.read_csv(\"parameters/test_instances_id.csv\").iloc[:,0]) + [\"CTP91_002_0000\"]\n",
    "d = list(split(c, 4))"
   ]
  },
  {
   "cell_type": "code",
   "execution_count": 33,
   "id": "c2bf04d4-b288-45ec-9c85-e05cd7d6d50d",
   "metadata": {},
   "outputs": [
    {
     "data": {
      "text/plain": [
       "[['CTP48_001_0000', 'CTP97_001_0000', 'CTP81_001_0000'],\n",
       " ['CTP02_001_0000', 'CTP68_001_0000', 'CTP12_001_0000'],\n",
       " ['CTP57_002_0000', 'CTP73_001_0000', 'CTP04_001_0000'],\n",
       " ['CTP59_001_0000', 'CTP91_001_0000', 'CTP91_002_0000']]"
      ]
     },
     "execution_count": 33,
     "metadata": {},
     "output_type": "execute_result"
    }
   ],
   "source": [
    "d"
   ]
  },
  {
   "cell_type": "code",
   "execution_count": 34,
   "id": "62feb18e-edae-4812-9e64-e6ae2745714e",
   "metadata": {},
   "outputs": [
    {
     "name": "stdout",
     "output_type": "stream",
     "text": [
      "fold_1 ['CTP48_001_0000', 'CTP97_001_0000', 'CTP81_001_0000']\n",
      "fold_2 ['CTP02_001_0000', 'CTP68_001_0000', 'CTP12_001_0000']\n",
      "fold_3 ['CTP57_002_0000', 'CTP73_001_0000', 'CTP04_001_0000']\n",
      "fold_4 ['CTP59_001_0000', 'CTP91_001_0000', 'CTP91_002_0000']\n"
     ]
    }
   ],
   "source": [
    "for fold, ids in zip(header, d):\n",
    "    print(fold, ids)"
   ]
  },
  {
   "cell_type": "code",
   "execution_count": 35,
   "id": "92fee891-85b8-4c8b-9635-5356de211f17",
   "metadata": {},
   "outputs": [
    {
     "data": {
      "text/html": [
       "<div>\n",
       "<style scoped>\n",
       "    .dataframe tbody tr th:only-of-type {\n",
       "        vertical-align: middle;\n",
       "    }\n",
       "\n",
       "    .dataframe tbody tr th {\n",
       "        vertical-align: top;\n",
       "    }\n",
       "\n",
       "    .dataframe thead th {\n",
       "        text-align: right;\n",
       "    }\n",
       "</style>\n",
       "<table border=\"1\" class=\"dataframe\">\n",
       "  <thead>\n",
       "    <tr style=\"text-align: right;\">\n",
       "      <th></th>\n",
       "      <th>fold_1</th>\n",
       "      <th>fold_2</th>\n",
       "      <th>fold_3</th>\n",
       "      <th>fold_4</th>\n",
       "    </tr>\n",
       "  </thead>\n",
       "  <tbody>\n",
       "  </tbody>\n",
       "</table>\n",
       "</div>"
      ],
      "text/plain": [
       "Empty DataFrame\n",
       "Columns: [fold_1, fold_2, fold_3, fold_4]\n",
       "Index: []"
      ]
     },
     "execution_count": 35,
     "metadata": {},
     "output_type": "execute_result"
    }
   ],
   "source": [
    "header = [f\"fold_{i+1}\" for i in range(4)]\n",
    "df = pd.DataFrame(columns = header)\n",
    "df"
   ]
  },
  {
   "cell_type": "code",
   "execution_count": 36,
   "id": "260c2f6e-b8af-4003-acc2-813f799fe42e",
   "metadata": {},
   "outputs": [
    {
     "data": {
      "text/html": [
       "<div>\n",
       "<style scoped>\n",
       "    .dataframe tbody tr th:only-of-type {\n",
       "        vertical-align: middle;\n",
       "    }\n",
       "\n",
       "    .dataframe tbody tr th {\n",
       "        vertical-align: top;\n",
       "    }\n",
       "\n",
       "    .dataframe thead th {\n",
       "        text-align: right;\n",
       "    }\n",
       "</style>\n",
       "<table border=\"1\" class=\"dataframe\">\n",
       "  <thead>\n",
       "    <tr style=\"text-align: right;\">\n",
       "      <th></th>\n",
       "      <th>fold_1</th>\n",
       "      <th>fold_2</th>\n",
       "      <th>fold_3</th>\n",
       "      <th>fold_4</th>\n",
       "    </tr>\n",
       "  </thead>\n",
       "  <tbody>\n",
       "    <tr>\n",
       "      <th>0</th>\n",
       "      <td>CTP48_001_0000</td>\n",
       "      <td>CTP02_001_0000</td>\n",
       "      <td>CTP57_002_0000</td>\n",
       "      <td>CTP59_001_0000</td>\n",
       "    </tr>\n",
       "    <tr>\n",
       "      <th>1</th>\n",
       "      <td>CTP97_001_0000</td>\n",
       "      <td>CTP68_001_0000</td>\n",
       "      <td>CTP73_001_0000</td>\n",
       "      <td>CTP91_001_0000</td>\n",
       "    </tr>\n",
       "    <tr>\n",
       "      <th>2</th>\n",
       "      <td>CTP81_001_0000</td>\n",
       "      <td>CTP12_001_0000</td>\n",
       "      <td>CTP04_001_0000</td>\n",
       "      <td>CTP91_002_0000</td>\n",
       "    </tr>\n",
       "  </tbody>\n",
       "</table>\n",
       "</div>"
      ],
      "text/plain": [
       "           fold_1          fold_2          fold_3          fold_4\n",
       "0  CTP48_001_0000  CTP02_001_0000  CTP57_002_0000  CTP59_001_0000\n",
       "1  CTP97_001_0000  CTP68_001_0000  CTP73_001_0000  CTP91_001_0000\n",
       "2  CTP81_001_0000  CTP12_001_0000  CTP04_001_0000  CTP91_002_0000"
      ]
     },
     "execution_count": 36,
     "metadata": {},
     "output_type": "execute_result"
    }
   ],
   "source": [
    "for fold, ids in zip(header, d):\n",
    "    df.loc[:,fold] = ids\n",
    "df"
   ]
  },
  {
   "cell_type": "code",
   "execution_count": 39,
   "id": "6452c075-b489-4e06-9c25-f8f9176744cd",
   "metadata": {},
   "outputs": [],
   "source": [
    "df.to_csv(\"foo.csv\", index = False)"
   ]
  },
  {
   "cell_type": "code",
   "execution_count": 48,
   "id": "53e4ad74-b426-437a-87e3-896f4db0a73b",
   "metadata": {},
   "outputs": [
    {
     "name": "stdout",
     "output_type": "stream",
     "text": [
      "<re.Match object; span=(0, 7), match='CPT_000'>\n",
      "None\n",
      "<re.Match object; span=(0, 7), match='CPT_002'>\n",
      "None\n",
      "<re.Match object; span=(0, 7), match='CPT_004'>\n",
      "None\n",
      "<re.Match object; span=(0, 7), match='CPT_006'>\n",
      "None\n",
      "<re.Match object; span=(0, 7), match='CPT_008'>\n",
      "None\n"
     ]
    }
   ],
   "source": [
    "import re\n",
    "\n",
    "a = [f\"CPT_00{i}\" for i in range(10)]\n",
    "b = [f\"CPT_00{i * 2}\" for i in range(5)]\n",
    "c = \"|\".join(b)\n",
    "for file in a:\n",
    "    print(re.search(all_patterns, file))"
   ]
  },
  {
   "cell_type": "code",
   "execution_count": 47,
   "id": "44ccb8d2-e565-42f4-92c6-02243615d486",
   "metadata": {},
   "outputs": [],
   "source": [
    "all_patterns = \"|\".join(list(map(lambda x: f\"({x})\", b)))"
   ]
  },
  {
   "cell_type": "code",
   "execution_count": 42,
   "id": "b1352d24-afd2-4a96-b8ec-65cd84ac7971",
   "metadata": {},
   "outputs": [
    {
     "data": {
      "text/plain": [
       "'CPT_000|CPT_002|CPT_004|CPT_006|CPT_008'"
      ]
     },
     "execution_count": 42,
     "metadata": {},
     "output_type": "execute_result"
    }
   ],
   "source": [
    "\"|\".join(b)"
   ]
  }
 ],
 "metadata": {
  "kernelspec": {
   "display_name": "Python 3 (ipykernel)",
   "language": "python",
   "name": "python3"
  },
  "language_info": {
   "codemirror_mode": {
    "name": "ipython",
    "version": 3
   },
   "file_extension": ".py",
   "mimetype": "text/x-python",
   "name": "python",
   "nbconvert_exporter": "python",
   "pygments_lexer": "ipython3",
   "version": "3.9.7"
  }
 },
 "nbformat": 4,
 "nbformat_minor": 5
}
