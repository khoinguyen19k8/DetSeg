{
 "cells": [
  {
   "cell_type": "markdown",
   "id": "3ed38e68-bc22-4b84-b134-d0ae05f0ba8d",
   "metadata": {
    "tags": []
   },
   "source": [
    "# Config Directories"
   ]
  },
  {
   "cell_type": "code",
   "execution_count": 82,
   "id": "8131254d-22c2-45ad-a4be-87c013057688",
   "metadata": {},
   "outputs": [],
   "source": [
    "import os\n",
    "from utils import k_fold, data_split\n",
    "import pandas as pd\n",
    "from tqdm import tqdm\n",
    "from pathlib import Path\n",
    "from utils.data_split import split_patterns"
   ]
  },
  {
   "cell_type": "code",
   "execution_count": 79,
   "id": "5cfcbb76-fe96-4e4e-a966-73bf258e212a",
   "metadata": {},
   "outputs": [],
   "source": [
    "ROOT = '/wecare/home/khoi/thesis'\n",
    "# CT scans and masks in raw nii format\n",
    "DATA_FOLDER = '/wecare/projects/Slicer_ready_data/Original Patient Data/Normalised_Recsaled_data'\n",
    "CT_SCANS = os.path.join(DATA_FOLDER,'Images')\n",
    "MASKS = os.path.join(DATA_FOLDER,'Labels_nii')\n",
    "# Dataset for the project\n",
    "AUGMENTED_FOLDER = os.path.join(ROOT, 'ct_processed_aug')\n",
    "AUGMENTED_SCANS = os.path.join(AUGMENTED_FOLDER, 'images') \n",
    "AUGMENTED_MASKS = os.path.join(AUGMENTED_FOLDER, 'masks')\n",
    "AUGMENTED_LABELS = os.path.join(AUGMENTED_FOLDER, 'labels')\n",
    "HYPEPARAMETERS = os.path.join(ROOT, 'parameters')\n",
    "K_FOLDS = os.path.join(HYPEPARAMETERS, 'k_folds.csv')\n",
    "k = 5"
   ]
  },
  {
   "cell_type": "markdown",
   "id": "49741d66-4bf4-41c4-8346-41041d903b42",
   "metadata": {
    "jp-MarkdownHeadingCollapsed": true,
    "tags": []
   },
   "source": [
    "# Allocating Scans ID for k-fold"
   ]
  },
  {
   "cell_type": "code",
   "execution_count": 4,
   "id": "22746d63-064e-47d4-b6b8-aa60646c9759",
   "metadata": {},
   "outputs": [],
   "source": [
    "ct_masks_pattern = r'CTP[0-9]{2,3}_00[1|2]'\n",
    "k_fold.allocate_id_k_fold(CT_SCANS, \n",
    "                         os.path.join(HYPEPARAMETERS, 'k_folds.csv'),\n",
    "                         os.path.join(HYPEPARAMETERS, 'exclude_empty.csv'),\n",
    "                         ct_masks_pattern)"
   ]
  },
  {
   "cell_type": "code",
   "execution_count": 10,
   "id": "f3be513a-6e88-48de-9b69-dffc85fb1db9",
   "metadata": {},
   "outputs": [],
   "source": [
    "df = pd.read_csv(K_FOLDS)"
   ]
  },
  {
   "cell_type": "code",
   "execution_count": 11,
   "id": "56bb955b-0bc5-4b3b-b4ba-cc9a9c23affc",
   "metadata": {},
   "outputs": [
    {
     "data": {
      "text/html": [
       "<div>\n",
       "<style scoped>\n",
       "    .dataframe tbody tr th:only-of-type {\n",
       "        vertical-align: middle;\n",
       "    }\n",
       "\n",
       "    .dataframe tbody tr th {\n",
       "        vertical-align: top;\n",
       "    }\n",
       "\n",
       "    .dataframe thead th {\n",
       "        text-align: right;\n",
       "    }\n",
       "</style>\n",
       "<table border=\"1\" class=\"dataframe\">\n",
       "  <thead>\n",
       "    <tr style=\"text-align: right;\">\n",
       "      <th></th>\n",
       "      <th>fold_1</th>\n",
       "      <th>fold_2</th>\n",
       "      <th>fold_3</th>\n",
       "      <th>fold_4</th>\n",
       "      <th>fold_5</th>\n",
       "    </tr>\n",
       "  </thead>\n",
       "  <tbody>\n",
       "    <tr>\n",
       "      <th>0</th>\n",
       "      <td>CTP69_001</td>\n",
       "      <td>CTP50_001</td>\n",
       "      <td>CTP63_001</td>\n",
       "      <td>CTP73_001</td>\n",
       "      <td>CTP51_001</td>\n",
       "    </tr>\n",
       "    <tr>\n",
       "      <th>1</th>\n",
       "      <td>CTP76_001</td>\n",
       "      <td>CTP62_001</td>\n",
       "      <td>CTP65_001</td>\n",
       "      <td>CTP77_002</td>\n",
       "      <td>CTP27_001</td>\n",
       "    </tr>\n",
       "    <tr>\n",
       "      <th>2</th>\n",
       "      <td>CTP42_001</td>\n",
       "      <td>CTP32_001</td>\n",
       "      <td>CTP86_001</td>\n",
       "      <td>CTP34_002</td>\n",
       "      <td>CTP57_001</td>\n",
       "    </tr>\n",
       "    <tr>\n",
       "      <th>3</th>\n",
       "      <td>CTP95_001</td>\n",
       "      <td>CTP102_001</td>\n",
       "      <td>CTP61_001</td>\n",
       "      <td>CTP56_001</td>\n",
       "      <td>CTP15_002</td>\n",
       "    </tr>\n",
       "    <tr>\n",
       "      <th>4</th>\n",
       "      <td>CTP45_001</td>\n",
       "      <td>CTP20_001</td>\n",
       "      <td>CTP39_001</td>\n",
       "      <td>CTP91_001</td>\n",
       "      <td>CTP100_001</td>\n",
       "    </tr>\n",
       "    <tr>\n",
       "      <th>5</th>\n",
       "      <td>CTP78_001</td>\n",
       "      <td>CTP02_001</td>\n",
       "      <td>CTP85_001</td>\n",
       "      <td>CTP86_002</td>\n",
       "      <td>CTP27_002</td>\n",
       "    </tr>\n",
       "    <tr>\n",
       "      <th>6</th>\n",
       "      <td>CTP29_001</td>\n",
       "      <td>CTP38_001</td>\n",
       "      <td>CTP41_001</td>\n",
       "      <td>CTP26_001</td>\n",
       "      <td>CTP28_001</td>\n",
       "    </tr>\n",
       "    <tr>\n",
       "      <th>7</th>\n",
       "      <td>CTP93_001</td>\n",
       "      <td>CTP90_001</td>\n",
       "      <td>CTP87_001</td>\n",
       "      <td>CTP83_001</td>\n",
       "      <td>CTP24_002</td>\n",
       "    </tr>\n",
       "    <tr>\n",
       "      <th>8</th>\n",
       "      <td>CTP24_001</td>\n",
       "      <td>CTP22_001</td>\n",
       "      <td>CTP60_001</td>\n",
       "      <td>CTP10_001</td>\n",
       "      <td>CTP77_001</td>\n",
       "    </tr>\n",
       "    <tr>\n",
       "      <th>9</th>\n",
       "      <td>CTP28_002</td>\n",
       "      <td>CTP07_001</td>\n",
       "      <td>CTP73_002</td>\n",
       "      <td>CTP15_001</td>\n",
       "      <td>CTP74_001</td>\n",
       "    </tr>\n",
       "    <tr>\n",
       "      <th>10</th>\n",
       "      <td>CTP55_001</td>\n",
       "      <td>CTP99_001</td>\n",
       "      <td>CTP35_001</td>\n",
       "      <td>CTP40_001</td>\n",
       "      <td>CTP81_001</td>\n",
       "    </tr>\n",
       "    <tr>\n",
       "      <th>11</th>\n",
       "      <td>CTP92_001</td>\n",
       "      <td>CTP21_001</td>\n",
       "      <td>CTP49_001</td>\n",
       "      <td>CTP79_001</td>\n",
       "      <td>CTP64_001</td>\n",
       "    </tr>\n",
       "    <tr>\n",
       "      <th>12</th>\n",
       "      <td>CTP66_001</td>\n",
       "      <td>CTP67_001</td>\n",
       "      <td>CTP55_002</td>\n",
       "      <td>CTP94_001</td>\n",
       "      <td>CTP78_002</td>\n",
       "    </tr>\n",
       "    <tr>\n",
       "      <th>13</th>\n",
       "      <td>CTP46_002</td>\n",
       "      <td>CTP52_001</td>\n",
       "      <td>CTP71_001</td>\n",
       "      <td>CTP75_001</td>\n",
       "      <td>CTP37_001</td>\n",
       "    </tr>\n",
       "    <tr>\n",
       "      <th>14</th>\n",
       "      <td>CTP92_002</td>\n",
       "      <td>CTP33_001</td>\n",
       "      <td>CTP47_001</td>\n",
       "      <td>CTP36_001</td>\n",
       "      <td>CTP04_001</td>\n",
       "    </tr>\n",
       "    <tr>\n",
       "      <th>15</th>\n",
       "      <td>CTP12_001</td>\n",
       "      <td>CTP59_001</td>\n",
       "      <td>CTP68_001</td>\n",
       "      <td>CTP98_001</td>\n",
       "      <td>CTP48_001</td>\n",
       "    </tr>\n",
       "    <tr>\n",
       "      <th>16</th>\n",
       "      <td>CTP57_002</td>\n",
       "      <td>CTP70_001</td>\n",
       "      <td>CTP58_001</td>\n",
       "      <td>CTP21_002</td>\n",
       "      <td>CTP89_001</td>\n",
       "    </tr>\n",
       "    <tr>\n",
       "      <th>17</th>\n",
       "      <td>CTP44_001</td>\n",
       "      <td>CTP67_002</td>\n",
       "      <td>CTP64_002</td>\n",
       "      <td>CTP35_002</td>\n",
       "      <td>CTP31_001</td>\n",
       "    </tr>\n",
       "    <tr>\n",
       "      <th>18</th>\n",
       "      <td>CTP82_001</td>\n",
       "      <td>CTP53_001</td>\n",
       "      <td>CTP43_001</td>\n",
       "      <td>CTP46_001</td>\n",
       "      <td>CTP97_001</td>\n",
       "    </tr>\n",
       "    <tr>\n",
       "      <th>19</th>\n",
       "      <td>CTP34_001</td>\n",
       "      <td>NaN</td>\n",
       "      <td>NaN</td>\n",
       "      <td>NaN</td>\n",
       "      <td>NaN</td>\n",
       "    </tr>\n",
       "  </tbody>\n",
       "</table>\n",
       "</div>"
      ],
      "text/plain": [
       "       fold_1      fold_2     fold_3     fold_4      fold_5\n",
       "0   CTP69_001   CTP50_001  CTP63_001  CTP73_001   CTP51_001\n",
       "1   CTP76_001   CTP62_001  CTP65_001  CTP77_002   CTP27_001\n",
       "2   CTP42_001   CTP32_001  CTP86_001  CTP34_002   CTP57_001\n",
       "3   CTP95_001  CTP102_001  CTP61_001  CTP56_001   CTP15_002\n",
       "4   CTP45_001   CTP20_001  CTP39_001  CTP91_001  CTP100_001\n",
       "5   CTP78_001   CTP02_001  CTP85_001  CTP86_002   CTP27_002\n",
       "6   CTP29_001   CTP38_001  CTP41_001  CTP26_001   CTP28_001\n",
       "7   CTP93_001   CTP90_001  CTP87_001  CTP83_001   CTP24_002\n",
       "8   CTP24_001   CTP22_001  CTP60_001  CTP10_001   CTP77_001\n",
       "9   CTP28_002   CTP07_001  CTP73_002  CTP15_001   CTP74_001\n",
       "10  CTP55_001   CTP99_001  CTP35_001  CTP40_001   CTP81_001\n",
       "11  CTP92_001   CTP21_001  CTP49_001  CTP79_001   CTP64_001\n",
       "12  CTP66_001   CTP67_001  CTP55_002  CTP94_001   CTP78_002\n",
       "13  CTP46_002   CTP52_001  CTP71_001  CTP75_001   CTP37_001\n",
       "14  CTP92_002   CTP33_001  CTP47_001  CTP36_001   CTP04_001\n",
       "15  CTP12_001   CTP59_001  CTP68_001  CTP98_001   CTP48_001\n",
       "16  CTP57_002   CTP70_001  CTP58_001  CTP21_002   CTP89_001\n",
       "17  CTP44_001   CTP67_002  CTP64_002  CTP35_002   CTP31_001\n",
       "18  CTP82_001   CTP53_001  CTP43_001  CTP46_001   CTP97_001\n",
       "19  CTP34_001         NaN        NaN        NaN         NaN"
      ]
     },
     "execution_count": 11,
     "metadata": {},
     "output_type": "execute_result"
    }
   ],
   "source": [
    "df"
   ]
  },
  {
   "cell_type": "code",
   "execution_count": 32,
   "id": "70bcf942-e307-4b49-a843-a34dbc878972",
   "metadata": {},
   "outputs": [
    {
     "data": {
      "text/plain": [
       "'CTP02_001_0000_0623'"
      ]
     },
     "execution_count": 32,
     "metadata": {},
     "output_type": "execute_result"
    }
   ],
   "source": [
    "a = \"CTP02_001_0623\"\n",
    "f\"{a[:-5]}_0000_{a[-4:]}\""
   ]
  },
  {
   "cell_type": "markdown",
   "id": "f4cd8db6-11e2-4d42-9142-b04bb5f5f8ce",
   "metadata": {},
   "source": [
    "# Changing values of masks to 0 and 255"
   ]
  },
  {
   "cell_type": "markdown",
   "id": "2bb789e3-99a3-4d5a-a115-05a6de0568a4",
   "metadata": {
    "jp-MarkdownHeadingCollapsed": true,
    "tags": []
   },
   "source": [
    "## Testing"
   ]
  },
  {
   "cell_type": "code",
   "execution_count": 71,
   "id": "a035baff-90ad-4806-a7b0-2c802a6b939c",
   "metadata": {},
   "outputs": [],
   "source": [
    "import matplotlib.pyplot as plt\n",
    "from skimage.io import imread\n",
    "from torchvision.io import read_image\n",
    "import torchvision\n",
    "import numpy as np\n",
    "\n",
    "FOO = os.path.join(ROOT, 'foo')\n",
    "foo_mask = imread(os.path.join(AUGMENTED_MASKS, 'CTP78_002_0423.png'), as_gray = True)\n",
    "foo_mask_torch = read_image(os.path.join(AUGMENTED_MASKS, 'CTP78_002_0423.png'), mode = torchvision.io.ImageReadMode.GRAY)"
   ]
  },
  {
   "cell_type": "code",
   "execution_count": 72,
   "id": "a61f1a8c-74e2-45a9-9cba-35a2a5f11dd1",
   "metadata": {},
   "outputs": [
    {
     "data": {
      "text/plain": [
       "<matplotlib.image.AxesImage at 0x7efb59be72b0>"
      ]
     },
     "execution_count": 72,
     "metadata": {},
     "output_type": "execute_result"
    },
    {
     "data": {
      "image/png": "[encoded data removed]",
      "text/plain": [
       "<Figure size 432x288 with 1 Axes>"
      ]
     },
     "metadata": {
      "needs_background": "light"
     },
     "output_type": "display_data"
    }
   ],
   "source": [
    "plt.imshow(foo_mask, cmap = plt.gray())"
   ]
  },
  {
   "cell_type": "code",
   "execution_count": 73,
   "id": "21a6f2cc-ae0a-4394-8ff9-afaeb4d3a37c",
   "metadata": {},
   "outputs": [
    {
     "data": {
      "text/plain": [
       "(array([  0, 255], dtype=uint8), array([588591,   1233]))"
      ]
     },
     "execution_count": 73,
     "metadata": {},
     "output_type": "execute_result"
    }
   ],
   "source": [
    "np.unique(foo_mask_torch, return_counts=True)"
   ]
  },
  {
   "cell_type": "code",
   "execution_count": 63,
   "id": "1e9a6cb3-9e0f-4a9a-a254-f942ad435c1c",
   "metadata": {},
   "outputs": [],
   "source": [
    "foo_mask_bin = foo_mask_torch[0]\n",
    "foo_mask_bin[foo_mask_bin > 0] = 255\n",
    "#foo_mask_bin = foo_mask_bin.\n",
    "bin_img = Image.fromarray(bin_arr, mode = \"L\")"
   ]
  },
  {
   "cell_type": "code",
   "execution_count": 64,
   "id": "e4598493-4b73-4bc6-9f5c-96314201c45e",
   "metadata": {},
   "outputs": [
    {
     "data": {
      "text/plain": [
       "array([  0, 255], dtype=uint8)"
      ]
     },
     "execution_count": 64,
     "metadata": {},
     "output_type": "execute_result"
    }
   ],
   "source": [
    "np.unique(foo_mask_bin)"
   ]
  },
  {
   "cell_type": "code",
   "execution_count": 55,
   "id": "954c9c09-7e0a-41e1-970a-3d1b8fc21fdd",
   "metadata": {},
   "outputs": [
    {
     "data": {
      "text/plain": [
       "<Figure size 432x288 with 0 Axes>"
      ]
     },
     "metadata": {},
     "output_type": "display_data"
    }
   ],
   "source": [
    "import matplotlib.cm as cm\n",
    "plt.imsave(os.path.join(FOO, 'CTP78_002_0423_foo.png'), foo_mask_bin, cmap = plt.gray())"
   ]
  },
  {
   "cell_type": "code",
   "execution_count": 56,
   "id": "53a0e1ee-7d0b-4f79-aa5c-0e132d5a6421",
   "metadata": {},
   "outputs": [
    {
     "data": {
      "text/plain": [
       "array([  0, 255], dtype=uint8)"
      ]
     },
     "execution_count": 56,
     "metadata": {},
     "output_type": "execute_result"
    }
   ],
   "source": [
    "foo_mask_new = read_image(os.path.join(FOO, 'CTP78_002_0423_foo.png'), mode = torchvision.io.ImageReadMode.GRAY)\n",
    "np.unique(foo_mask_new)"
   ]
  },
  {
   "cell_type": "markdown",
   "id": "69f2c431-9962-4daa-a153-1bc85355cb89",
   "metadata": {
    "tags": []
   },
   "source": [
    "## Binarizing mask values"
   ]
  },
  {
   "cell_type": "code",
   "execution_count": 70,
   "id": "b726dd64-eda1-49e5-ab4d-6c1b655737a2",
   "metadata": {},
   "outputs": [
    {
     "name": "stderr",
     "output_type": "stream",
     "text": [
      "100%|███████████████████████████████████████████████████████████████████████████████████████████████████████████████████████████████████████████████████| 43996/43996 [29:07<00:00, 25.17it/s]\n"
     ]
    },
    {
     "data": {
      "text/plain": [
       "<Figure size 432x288 with 0 Axes>"
      ]
     },
     "metadata": {},
     "output_type": "display_data"
    }
   ],
   "source": [
    "all_masks = os.listdir(AUGMENTED_MASKS)\n",
    "for mask in tqdm(all_masks):\n",
    "    full_mask_path = os.path.join(AUGMENTED_MASKS, mask)\n",
    "    mask_arr_torch = read_image(full_mask_path, mode = torchvision.io.ImageReadMode.GRAY)\n",
    "    mask_arr = mask_arr_torch[0]\n",
    "    mask_arr[mask_arr > 0] = 255\n",
    "    plt.imsave(full_mask_path, mask_arr, cmap = plt.gray())"
   ]
  },
  {
   "cell_type": "markdown",
   "id": "28fbf3fd-f328-499a-b2d1-321ef46d8c75",
   "metadata": {
    "jp-MarkdownHeadingCollapsed": true,
    "tags": []
   },
   "source": [
    "# Changing images name to be the same as mask/label name"
   ]
  },
  {
   "cell_type": "markdown",
   "id": "cc012c7e-246a-4c9c-8d03-8cfa43f67f35",
   "metadata": {},
   "source": [
    "Image names are now in the form 'CTP[0-9]{2,3}\\_00[1|2]\\_0000\\_[0-9]{4}' <br>\n",
    "Mask/Label names are now in the form 'CTP[0-9]{2,3}\\_00[1|2]\\_[0-9]{4}'"
   ]
  },
  {
   "cell_type": "code",
   "execution_count": 66,
   "id": "9c02f409-c96a-44bb-a92b-47fc84a8c089",
   "metadata": {},
   "outputs": [],
   "source": [
    "image_path_foo = 'CTP78_002_0000_0423.png'\n",
    "mask_path_foo = 'CTP78_002_0423.png'"
   ]
  },
  {
   "cell_type": "code",
   "execution_count": 68,
   "id": "4abac4b1-e2e4-456e-9902-3627695a177e",
   "metadata": {},
   "outputs": [
    {
     "data": {
      "text/plain": [
       "'CTP78_002_0423.png'"
      ]
     },
     "execution_count": 68,
     "metadata": {},
     "output_type": "execute_result"
    }
   ],
   "source": [
    "f\"{image_path_foo[:-14]}_{image_path_foo[-8:]}\""
   ]
  },
  {
   "cell_type": "code",
   "execution_count": 74,
   "id": "51f2fba3-c857-484f-9c0b-27e5f35aaa95",
   "metadata": {},
   "outputs": [
    {
     "name": "stderr",
     "output_type": "stream",
     "text": [
      "100%|█████████████████████████████████████████████████████████████████████████████████████████████████████████████████████████████████████████████████| 43996/43996 [00:11<00:00, 3759.34it/s]\n"
     ]
    }
   ],
   "source": [
    "all_images = os.listdir(AUGMENTED_SCANS)\n",
    "\n",
    "for image_name in tqdm(all_images):\n",
    "    new_name = f\"{image_name[:-14]}_{image_name[-8:]}\"\n",
    "    new_path = os.path.join(AUGMENTED_SCANS, new_name)\n",
    "    old_path = os.path.join(AUGMENTED_SCANS, image_name)\n",
    "    os.rename(old_path, new_path)"
   ]
  },
  {
   "cell_type": "markdown",
   "id": "e1fb618e-48d2-4962-9240-a8dccd3945bb",
   "metadata": {
    "jp-MarkdownHeadingCollapsed": true,
    "tags": []
   },
   "source": [
    "# Split data into k folders"
   ]
  },
  {
   "cell_type": "code",
   "execution_count": 77,
   "id": "dc4bbcbf-9ed9-4208-9a08-f7a53ebf3aa4",
   "metadata": {},
   "outputs": [
    {
     "name": "stderr",
     "output_type": "stream",
     "text": [
      "100%|████████████████████████████████████████████████████████████████████████████████████████████████████████████████████████████████████████████████| 66646/66646 [00:03<00:00, 19656.63it/s]\n",
      "100%|████████████████████████████████████████████████████████████████████████████████████████████████████████████████████████████████████████████████| 53635/53635 [00:02<00:00, 18857.29it/s]\n",
      "100%|████████████████████████████████████████████████████████████████████████████████████████████████████████████████████████████████████████████████| 40858/40858 [00:02<00:00, 15625.30it/s]\n",
      "100%|█████████████████████████████████████████████████████████████████████████████████████████████████████████████████████████████████████████████████| 29572/29572 [00:03<00:00, 9245.33it/s]\n",
      "100%|█████████████████████████████████████████████████████████████████████████████████████████████████████████████████████████████████████████████████| 14289/14289 [00:02<00:00, 6051.79it/s]\n",
      "100%|████████████████████████████████████████████████████████████████████████████████████████████████████████████████████████████████████████████████| 66646/66646 [00:03<00:00, 21464.51it/s]\n",
      "100%|████████████████████████████████████████████████████████████████████████████████████████████████████████████████████████████████████████████████| 53635/53635 [00:02<00:00, 19219.21it/s]\n",
      "100%|████████████████████████████████████████████████████████████████████████████████████████████████████████████████████████████████████████████████| 40858/40858 [00:02<00:00, 15008.63it/s]\n",
      "100%|█████████████████████████████████████████████████████████████████████████████████████████████████████████████████████████████████████████████████| 29572/29572 [00:03<00:00, 9724.97it/s]\n",
      "100%|█████████████████████████████████████████████████████████████████████████████████████████████████████████████████████████████████████████████████| 14289/14289 [00:02<00:00, 6629.44it/s]\n",
      "100%|████████████████████████████████████████████████████████████████████████████████████████████████████████████████████████████████████████████████| 24915/24915 [00:00<00:00, 28850.17it/s]\n",
      "100%|████████████████████████████████████████████████████████████████████████████████████████████████████████████████████████████████████████████████| 21351/21351 [00:00<00:00, 26324.88it/s]\n",
      "100%|████████████████████████████████████████████████████████████████████████████████████████████████████████████████████████████████████████████████| 17105/17105 [00:00<00:00, 20746.91it/s]\n",
      "100%|█████████████████████████████████████████████████████████████████████████████████████████████████████████████████████████████████████████████████| 13343/13343 [00:01<00:00, 8010.95it/s]\n",
      "100%|███████████████████████████████████████████████████████████████████████████████████████████████████████████████████████████████████████████████████| 5478/5478 [00:00<00:00, 6308.64it/s]\n"
     ]
    }
   ],
   "source": [
    "k = 5\n",
    "\n",
    "df = pd.read_csv(K_FOLDS)\n",
    "all_dirs = [AUGMENTED_SCANS, AUGMENTED_MASKS, AUGMENTED_LABELS]\n",
    "\n",
    "# Split slices in images, masks, and labels directories into corresponding k-fold.    \n",
    "for DIR in all_dirs:\n",
    "    for fold in range(k):\n",
    "        pattern_list = pd.Series(df.loc[:,f\"fold_{fold+1}\"]).dropna().tolist()\n",
    "        split_patterns(DIR, os.path.join(DIR, f\"fold_{fold+1}\"), pattern_list)"
   ]
  },
  {
   "cell_type": "markdown",
   "id": "8fa95f31-47a1-4773-aa77-5f285ace48d0",
   "metadata": {},
   "source": [
    "# Create validation set for each k_fold session"
   ]
  },
  {
   "cell_type": "markdown",
   "id": "e3268d29-77c7-4644-a22b-8b107a94b9bd",
   "metadata": {},
   "source": [
    "Create fold_2_train.txt, ..., fold_5_train.txt for hold_out_1. Also create fold_2_val.txt, ..., fold_5_val.txt. <br>\n",
    "fold_2_train.txt contains all files in fold 2 that should be used for training <br>\n",
    "fold_2_val.txt contains all files in fold 2 that should be used for validating <br>"
   ]
  },
  {
   "cell_type": "code",
   "execution_count": 83,
   "id": "8fd9eea4-ec62-4aca-96e7-d2bb510bf8f4",
   "metadata": {},
   "outputs": [
    {
     "data": {
      "text/plain": [
       "PosixPath('/wecare/home/khoi/thesis')"
      ]
     },
     "execution_count": 83,
     "metadata": {},
     "output_type": "execute_result"
    }
   ],
   "source": [
    "Path().cwd()"
   ]
  },
  {
   "cell_type": "code",
   "execution_count": 92,
   "id": "f7ec3342-e83f-4d83-ab05-eedd9e539ed4",
   "metadata": {},
   "outputs": [
    {
     "name": "stdout",
     "output_type": "stream",
     "text": [
      "There are 13011 files in fold_1\n",
      "1301 slices will be used as validation\n",
      "There remains 11710 files for training\n",
      "There are 12777 files in fold_2\n",
      "1277 slices will be used as validation\n",
      "There remains 11500 files for training\n",
      "There are 11286 files in fold_3\n",
      "1128 slices will be used as validation\n",
      "There remains 10158 files for training\n",
      "There are 15283 files in fold_4\n",
      "1528 slices will be used as validation\n",
      "There remains 13755 files for training\n",
      "There are 14289 files in fold_5\n",
      "1428 slices will be used as validation\n",
      "There remains 12861 files for training\n"
     ]
    }
   ],
   "source": [
    "val_ratio = 0.1\n",
    "\n",
    "# Sampling validation set for images\n",
    "for fold in range(1,k+1):\n",
    "    all_images = os.listdir(os.path.join(AUGMENTED_FOLDER, \"images\", f\"fold_{fold}\"))\n",
    "    print(f\"There are {len(all_images)} files in fold_{fold}\")\n",
    "    \n",
    "    val_samples = int(val_ratio * len(all_images))\n",
    "    print(f\"{val_samples} slices will be used as validation\")\n",
    "    \n",
    "    files_for_val = random.sample(all_images, k = val_samples)\n",
    "    files_remain_train = list(set(all_images).difference(set(files_for_val)))\n",
    "    print(f\"There remains {len(files_remain_train)} files for training\")\n",
    "    \n",
    "    with open(os.path.join(AUGMENTED_SCANS, f'fold_{fold}_train.txt'), 'a') as f:\n",
    "        for file in files_remain_train:\n",
    "            f.write(f\"./fold_{fold}/{file}\\n\")\n",
    "    \n",
    "    with open(os.path.join(AUGMENTED_SCANS, f'fold_{fold}_val.txt'), 'a') as f:\n",
    "        for file in files_for_val:\n",
    "            f.write(f\"./fold_{fold}/{file}\\n\")"
   ]
  },
  {
   "cell_type": "code",
   "execution_count": 89,
   "id": "9c4599c7-43bb-4d12-95df-e216675567a9",
   "metadata": {},
   "outputs": [
    {
     "data": {
      "text/plain": [
       "'images/fold_5/CTP78_002_0426_aug06.txt\\n'"
      ]
     },
     "execution_count": 89,
     "metadata": {},
     "output_type": "execute_result"
    }
   ],
   "source": [
    "f\"images/fold_{fold}/{file}\\n\""
   ]
  }
 ],
 "metadata": {
  "kernelspec": {
   "display_name": "Python 3 (ipykernel)",
   "language": "python",
   "name": "python3"
  },
  "language_info": {
   "codemirror_mode": {
    "name": "ipython",
    "version": 3
   },
   "file_extension": ".py",
   "mimetype": "text/x-python",
   "name": "python",
   "nbconvert_exporter": "python",
   "pygments_lexer": "ipython3",
   "version": "3.9.7"
  }
 },
 "nbformat": 4,
 "nbformat_minor": 5
}
