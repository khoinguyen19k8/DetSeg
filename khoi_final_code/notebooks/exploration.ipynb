{
 "cells": [
  {
   "cell_type": "markdown",
   "id": "b8748489-7831-4df2-90fe-50e7d3dd7a3f",
   "metadata": {},
   "source": [
    "# Import packages and config path"
   ]
  },
  {
   "cell_type": "code",
   "execution_count": 1,
   "id": "061f3002-9053-418d-bc16-057cc6e78fdf",
   "metadata": {},
   "outputs": [],
   "source": [
    "from utils import raw_data_processing, Packages_file, lesion_tools\n",
    "import numpy as np\n",
    "import nibabel as nib\n",
    "import os\n",
    "import matplotlib.pyplot as plt\n",
    "import sklearn\n",
    "from skimage.measure import label, regionprops\n",
    "import re\n",
    "import matplotlib.patches as patches\n",
    "import PIL\n",
    "import imageio\n",
    "from utils.data_path import *"
   ]
  },
  {
   "cell_type": "code",
   "execution_count": 3,
   "id": "f2c5810d-b3d0-4924-b168-96b0c0943a63",
   "metadata": {},
   "outputs": [],
   "source": [
    "ROOT = '/wecare/home/khoi/thesis'\n",
    "DATA_FOLDER = '/wecare/projects/Slicer_ready_data/Original Patient Data/Normalised_Recsaled_data'\n",
    "CT_SCANS = os.path.join(DATA_FOLDER,'Images')\n",
    "LABELS = os.path.join(DATA_FOLDER,'Labels_nii')\n",
    "DEMO_FOLDER = os.path.join(ROOT, 'demo')\n",
    "LABEL_MASKS = os.path.join(DEMO_FOLDER, 'masks_demo')\n",
    "LABEL_TARGET = os.path.join(DEMO_FOLDER, 'targets_demo')\n",
    "PROCESSED_SCANS = os.path.join(DEMO_FOLDER, 'scans_demo')"
   ]
  },
  {
   "cell_type": "markdown",
   "id": "270284f9-30af-4572-82bd-a502a1f828b7",
   "metadata": {},
   "source": [
    "# Read one patient CT scan"
   ]
  },
  {
   "cell_type": "code",
   "execution_count": 2,
   "id": "484e7a30-4edc-4033-bce1-e6a86537e354",
   "metadata": {},
   "outputs": [],
   "source": [
    "pre_process = raw_data_processing.Data_processing()"
   ]
  },
  {
   "cell_type": "code",
   "execution_count": 4,
   "id": "47ad68f3-bef1-4c0a-85f5-46c51a6e45a9",
   "metadata": {},
   "outputs": [
    {
     "data": {
      "text/plain": [
       "'CTP02_001_0000.nii'"
      ]
     },
     "execution_count": 4,
     "metadata": {},
     "output_type": "execute_result"
    }
   ],
   "source": [
    "patient_num = 2\n",
    "upper_or_whole = True\n",
    "foo = f\"CTP{patient_num:02}_{'001' if upper_or_whole else '002'}_0000.nii\"\n",
    "foo"
   ]
  },
  {
   "cell_type": "code",
   "execution_count": 5,
   "id": "36ef59fc-ddc2-43bc-9ca3-a468c6d8b579",
   "metadata": {},
   "outputs": [
    {
     "data": {
      "text/plain": [
       "'CTP02_001_0000'"
      ]
     },
     "execution_count": 5,
     "metadata": {},
     "output_type": "execute_result"
    }
   ],
   "source": [
    "foo[:-4]"
   ]
  },
  {
   "cell_type": "code",
   "execution_count": 3,
   "id": "9ad34844-6d28-4d4c-bdee-b0606d982bd4",
   "metadata": {},
   "outputs": [
    {
     "name": "stdout",
     "output_type": "stream",
     "text": [
      "----Start Loading Files---\n"
     ]
    },
    {
     "name": "stderr",
     "output_type": "stream",
     "text": [
      "100%|███████████████████████████████████████████████████████████████████████████████████████████████████████████████████████████████████████████████████████████| 1/1 [00:02<00:00,  2.53s/it]\n"
     ]
    },
    {
     "name": "stdout",
     "output_type": "stream",
     "text": [
      "---Nifti Data loaded Succesfully!---\n",
      "----Start Loading Files---\n"
     ]
    },
    {
     "name": "stderr",
     "output_type": "stream",
     "text": [
      "100%|███████████████████████████████████████████████████████████████████████████████████████████████████████████████████████████████████████████████████████████| 1/1 [00:01<00:00,  1.06s/it]"
     ]
    },
    {
     "name": "stdout",
     "output_type": "stream",
     "text": [
      "---Nifti Data loaded Succesfully!---\n"
     ]
    },
    {
     "name": "stderr",
     "output_type": "stream",
     "text": [
      "\n"
     ]
    }
   ],
   "source": [
    "patient_num = 2\n",
    "upper_or_whole = True\n",
    "\n",
    "scan_path_foo = os.path.join(CT_SCANS, f\"CTP{patient_num:02}_{'001' if upper_or_whole else '002'}_0000.nii\")\n",
    "label_path_foo = os.path.join(MASKS, f\"CTP{patient_num:02}_{'001' if upper_or_whole else '002'}_1.nii\")\n",
    "\n",
    "patient_foo_list, patient_header_foo_list = pre_process.Loading_Nifti_data(CT_SCANS, [scan_path_foo])\n",
    "label_foo_list, label_header_foo_list = pre_process.Loading_Nifti_data(MASKS, [label_path_foo])"
   ]
  },
  {
   "cell_type": "code",
   "execution_count": 4,
   "id": "d52b0c42-db91-4ff1-ac68-f4d782548c9b",
   "metadata": {},
   "outputs": [],
   "source": [
    "label_header_foo = label_header_foo_list[0]\n",
    "patient_header_foo = patient_header_foo_list[0]"
   ]
  },
  {
   "cell_type": "code",
   "execution_count": 5,
   "id": "bed10a6e-86ad-45e9-8616-cae705dff1e0",
   "metadata": {},
   "outputs": [
    {
     "name": "stdout",
     "output_type": "stream",
     "text": [
      "sizeof_hdr: 348\n",
      "data_type: b''\n",
      "db_name: b''\n",
      "extents: 0\n",
      "session_error: 0\n",
      "regular: b''\n",
      "dim_info: 0\n",
      "dim: [  3 768 768 633   1   1   1   1]\n",
      "intent_p1: 0.0\n",
      "intent_p2: 0.0\n",
      "intent_p3: 0.0\n",
      "intent_code: 0\n",
      "datatype: 4\n",
      "bitpix: 16\n",
      "slice_start: 0\n",
      "pixdim: [-1.          0.59765625  0.59765625  2.5         1.          1.\n",
      "  1.          1.        ]\n",
      "vox_offset: 0.0\n",
      "scl_slope: nan\n",
      "scl_inter: nan\n",
      "slice_end: 0\n",
      "slice_code: 0\n",
      "xyzt_units: 2\n",
      "cal_max: 0.0\n",
      "cal_min: 0.0\n",
      "slice_duration: 0.0\n",
      "toffset: 0.0\n",
      "glmax: 0\n",
      "glmin: 0\n",
      "descrip: b''\n",
      "aux_file: b''\n",
      "qform_code: 0\n",
      "sform_code: 2\n",
      "quatern_b: 0.0\n",
      "quatern_c: 1.0\n",
      "quatern_d: 0.0\n",
      "qoffset_x: 234.5489959716797\n",
      "qoffset_y: -377.60235595703125\n",
      "qoffset_z: 116.05999755859375\n",
      "srow_x: [ -0.59765625   0.           0.         234.549     ]\n",
      "srow_y: [  -0.            0.59765625    0.         -377.60236   ]\n",
      "srow_z: [  0.    -0.     2.5  116.06]\n",
      "intent_name: b''\n",
      "magic: b'n+1'\n"
     ]
    }
   ],
   "source": [
    "for key, value in patient_header_foo.items():\n",
    "    print(f\"{key}: {value}\")"
   ]
  },
  {
   "cell_type": "code",
   "execution_count": 6,
   "id": "3a3d7545-60eb-47c2-950f-5e5a91053793",
   "metadata": {},
   "outputs": [
    {
     "name": "stdout",
     "output_type": "stream",
     "text": [
      "sizeof_hdr: 348\n",
      "data_type: b''\n",
      "db_name: b''\n",
      "extents: 0\n",
      "session_error: 0\n",
      "regular: b'r'\n",
      "dim_info: 0\n",
      "dim: [  3 768 768 633   1   1   1   1]\n",
      "intent_p1: 0.0\n",
      "intent_p2: 0.0\n",
      "intent_p3: 0.0\n",
      "intent_code: 0\n",
      "datatype: 4\n",
      "bitpix: 16\n",
      "slice_start: 0\n",
      "pixdim: [-1.          0.59765625  0.59765625  2.5         0.          0.\n",
      "  0.          0.        ]\n",
      "vox_offset: 0.0\n",
      "scl_slope: nan\n",
      "scl_inter: nan\n",
      "slice_end: 0\n",
      "slice_code: 0\n",
      "xyzt_units: 2\n",
      "cal_max: 0.0\n",
      "cal_min: 0.0\n",
      "slice_duration: 0.0\n",
      "toffset: 0.0\n",
      "glmax: 0\n",
      "glmin: 0\n",
      "descrip: b''\n",
      "aux_file: b''\n",
      "qform_code: 1\n",
      "sform_code: 0\n",
      "quatern_b: -0.0\n",
      "quatern_c: 1.0\n",
      "quatern_d: 0.0\n",
      "qoffset_x: 234.5489959716797\n",
      "qoffset_y: -377.60235595703125\n",
      "qoffset_z: 116.05999755859375\n",
      "srow_x: [0. 0. 0. 0.]\n",
      "srow_y: [0. 0. 0. 0.]\n",
      "srow_z: [0. 0. 0. 0.]\n",
      "intent_name: b''\n",
      "magic: b'n+1'\n"
     ]
    }
   ],
   "source": [
    "for key, value in label_header_foo.items():\n",
    "    print(f\"{key}: {value}\")"
   ]
  },
  {
   "cell_type": "code",
   "execution_count": 14,
   "id": "01cc940d-c51c-4d64-af05-8a8ca273d0aa",
   "metadata": {},
   "outputs": [
    {
     "data": {
      "text/plain": [
       "array([-1.        ,  0.59765625,  0.59765625,  2.5       ,  0.        ,\n",
       "        0.        ,  0.        ,  0.        ], dtype=float32)"
      ]
     },
     "execution_count": 14,
     "metadata": {},
     "output_type": "execute_result"
    }
   ],
   "source": [
    "label_header_foo[\"pixdim\"]"
   ]
  },
  {
   "cell_type": "code",
   "execution_count": 21,
   "id": "d25f052f-eeac-4014-a14d-a5db53a89ff8",
   "metadata": {},
   "outputs": [
    {
     "data": {
      "text/plain": [
       "array(b'', dtype='|S80')"
      ]
     },
     "execution_count": 21,
     "metadata": {},
     "output_type": "execute_result"
    }
   ],
   "source": [
    "patient_header_foo[\"descrip\"]"
   ]
  },
  {
   "cell_type": "code",
   "execution_count": 23,
   "id": "224169c4-79ef-4851-96b0-7974a13ed5c1",
   "metadata": {},
   "outputs": [
    {
     "data": {
      "text/plain": [
       "((768, 768, 633), (768, 768, 633))"
      ]
     },
     "execution_count": 23,
     "metadata": {},
     "output_type": "execute_result"
    }
   ],
   "source": [
    "patient_foo = patient_foo_list[0]\n",
    "label_foo = label_foo_list[0]\n",
    "patient_foo.shape, label_foo.shape"
   ]
  },
  {
   "cell_type": "code",
   "execution_count": 39,
   "id": "b2097d61-b415-45c8-a08d-9411ec566107",
   "metadata": {},
   "outputs": [],
   "source": [
    "props = lesion_tools.get_lesion_props(label_foo[:, :, 623], 0.0)"
   ]
  },
  {
   "cell_type": "code",
   "execution_count": 41,
   "id": "24751d58-3ec0-4635-8d6c-f902be6c0979",
   "metadata": {},
   "outputs": [
    {
     "data": {
      "text/plain": [
       "98"
      ]
     },
     "execution_count": 41,
     "metadata": {},
     "output_type": "execute_result"
    }
   ],
   "source": [
    "props[0].area"
   ]
  },
  {
   "cell_type": "code",
   "execution_count": 40,
   "id": "d59a337a-37fb-49bb-b4c5-72ad90cdfdc4",
   "metadata": {},
   "outputs": [
    {
     "data": {
      "text/plain": [
       "34.1138"
      ]
     },
     "execution_count": 40,
     "metadata": {},
     "output_type": "execute_result"
    }
   ],
   "source": [
    "props[0].area * 0.59 * 0.59"
   ]
  },
  {
   "cell_type": "code",
   "execution_count": 90,
   "id": "19737710-1164-4500-a878-20b86f3276cc",
   "metadata": {},
   "outputs": [
    {
     "data": {
      "text/plain": [
       "dtype('float64')"
      ]
     },
     "execution_count": 90,
     "metadata": {},
     "output_type": "execute_result"
    }
   ],
   "source": [
    "label_foo.dtype"
   ]
  },
  {
   "cell_type": "markdown",
   "id": "352598cd-8a46-45c5-aecb-2a26cd48dde7",
   "metadata": {},
   "source": [
    "# Find region properties of lesions"
   ]
  },
  {
   "cell_type": "code",
   "execution_count": 29,
   "id": "14f2ead0-e454-4426-847c-d98aba0ec078",
   "metadata": {},
   "outputs": [],
   "source": [
    "b = np.array([[0, 0, 0, 0, 0, 0, 0, 0, 0],\n",
    "              [0, 1, 1, 0, 0, 0, 0, 0, 0],\n",
    "              [0, 1, 1, 0, 0, 0, 0, 0, 0],\n",
    "              [0, 0, 0, 0, 0, 0, 0, 0, 0],\n",
    "              [0, 0, 0, 0, 0, 0, 0, 0, 0],\n",
    "              [0, 0, 0, 0, 0, 0, 0, 0, 0],\n",
    "              [0, 0, 0, 0, 0, 0, 1, 1, 0],\n",
    "              [0, 0, 0, 0, 0, 0, 1, 1, 0],\n",
    "              [0, 0, 0, 0, 0, 0, 0, 0, 0],\n",
    "             ])\n",
    "b_neighbors = label(b)\n",
    "b_props = regionprops(b_neighbors)"
   ]
  },
  {
   "cell_type": "code",
   "execution_count": 31,
   "id": "e709c70a-a579-4794-92a2-aa118dd8442f",
   "metadata": {},
   "outputs": [
    {
     "data": {
      "text/plain": [
       "array([[0, 0, 0, 0, 0, 0, 0, 0, 0],\n",
       "       [0, 1, 1, 0, 0, 0, 0, 0, 0],\n",
       "       [0, 1, 1, 0, 0, 0, 0, 0, 0],\n",
       "       [0, 0, 0, 0, 0, 0, 0, 0, 0],\n",
       "       [0, 0, 0, 0, 0, 0, 0, 0, 0],\n",
       "       [0, 0, 0, 0, 0, 0, 0, 0, 0],\n",
       "       [0, 0, 0, 0, 0, 0, 2, 2, 0],\n",
       "       [0, 0, 0, 0, 0, 0, 2, 2, 0],\n",
       "       [0, 0, 0, 0, 0, 0, 0, 0, 0]])"
      ]
     },
     "execution_count": 31,
     "metadata": {},
     "output_type": "execute_result"
    }
   ],
   "source": [
    "b_neighbors"
   ]
  },
  {
   "cell_type": "code",
   "execution_count": 32,
   "id": "714239ae-fd56-4dea-be3e-025abd17384f",
   "metadata": {},
   "outputs": [
    {
     "data": {
      "text/plain": [
       "2"
      ]
     },
     "execution_count": 32,
     "metadata": {},
     "output_type": "execute_result"
    }
   ],
   "source": [
    "len(b_props)"
   ]
  },
  {
   "cell_type": "code",
   "execution_count": 30,
   "id": "8d7e78a9-8db7-4bfa-b461-b87cbe71c74c",
   "metadata": {},
   "outputs": [
    {
     "data": {
      "text/plain": [
       "(1, 1, 3, 3)"
      ]
     },
     "execution_count": 30,
     "metadata": {},
     "output_type": "execute_result"
    }
   ],
   "source": [
    "b_props[0].bbox"
   ]
  },
  {
   "cell_type": "code",
   "execution_count": 33,
   "id": "67436ff8-bd8a-4505-89ba-87069ad2ac54",
   "metadata": {},
   "outputs": [
    {
     "data": {
      "text/plain": [
       "(6, 6, 8, 8)"
      ]
     },
     "execution_count": 33,
     "metadata": {},
     "output_type": "execute_result"
    }
   ],
   "source": [
    "b_props[1].bbox"
   ]
  },
  {
   "cell_type": "code",
   "execution_count": 36,
   "id": "18315849-0a3d-40f9-9bdc-a133f77b36b0",
   "metadata": {},
   "outputs": [
    {
     "name": "stdout",
     "output_type": "stream",
     "text": [
      "(1, 1, 3, 3)\n",
      "(1.5, 1.5)\n",
      "(6, 6, 8, 8)\n",
      "(6.5, 6.5)\n"
     ]
    }
   ],
   "source": [
    "for i in range(len(b_props)):\n",
    "    print(b_props[i].bbox)\n",
    "    print(b_props[i].centroid)"
   ]
  },
  {
   "cell_type": "code",
   "execution_count": 27,
   "id": "74814959-b6ff-4219-a63a-71a2c11e5006",
   "metadata": {},
   "outputs": [
    {
     "data": {
      "text/plain": [
       "array([[1, 1],\n",
       "       [1, 2],\n",
       "       [2, 1],\n",
       "       [2, 2],\n",
       "       [6, 6],\n",
       "       [6, 7],\n",
       "       [7, 6],\n",
       "       [7, 7]])"
      ]
     },
     "execution_count": 27,
     "metadata": {},
     "output_type": "execute_result"
    }
   ],
   "source": [
    "b_props[0].coords"
   ]
  },
  {
   "cell_type": "code",
   "execution_count": 28,
   "id": "5d237730-ccc7-4825-b133-af0fc68f169e",
   "metadata": {},
   "outputs": [
    {
     "data": {
      "text/plain": [
       "array([[ True,  True, False, False, False, False, False],\n",
       "       [ True,  True, False, False, False, False, False],\n",
       "       [False, False, False, False, False, False, False],\n",
       "       [False, False, False, False, False, False, False],\n",
       "       [False, False, False, False, False, False, False],\n",
       "       [False, False, False, False, False,  True,  True],\n",
       "       [False, False, False, False, False,  True,  True]])"
      ]
     },
     "execution_count": 28,
     "metadata": {},
     "output_type": "execute_result"
    }
   ],
   "source": [
    "b_props[0].image"
   ]
  },
  {
   "cell_type": "code",
   "execution_count": 22,
   "id": "7e8f8988-2e1c-42f9-b5a1-d57ad3b1ecf3",
   "metadata": {},
   "outputs": [
    {
     "data": {
      "text/plain": [
       "1"
      ]
     },
     "execution_count": 22,
     "metadata": {},
     "output_type": "execute_result"
    }
   ],
   "source": [
    "len(b_props)"
   ]
  },
  {
   "cell_type": "code",
   "execution_count": 38,
   "id": "92333137-d436-4ef8-a61d-d57cf422824a",
   "metadata": {},
   "outputs": [],
   "source": [
    "c = np.array([[0, 0, 0, 0, 0, 0, 0, 0, 0],\n",
    "              [0, 0, 0, 0, 0, 0, 0, 0, 0],\n",
    "              [0, 0, 0, 0, 0, 0, 0, 0, 0],\n",
    "              [0, 0, 0, 0, 0, 0, 0, 0, 0],\n",
    "              [0, 0, 0, 0, 0, 0, 0, 0, 0],\n",
    "              [0, 0, 0, 0, 0, 0, 0, 0, 0],\n",
    "              [0, 0, 0, 0, 0, 0, 0, 0, 0],\n",
    "              [0, 0, 0, 0, 0, 0, 0, 0, 0],\n",
    "              [0, 0, 0, 0, 0, 0, 0, 0, 0],\n",
    "             ])\n",
    "c_neighbors = label(c)\n",
    "c_props = regionprops(c_neighbors)"
   ]
  },
  {
   "cell_type": "code",
   "execution_count": 39,
   "id": "21412d19-11c0-40c9-ac40-1a232b9c61f9",
   "metadata": {},
   "outputs": [
    {
     "data": {
      "text/plain": [
       "0"
      ]
     },
     "execution_count": 39,
     "metadata": {},
     "output_type": "execute_result"
    }
   ],
   "source": [
    "len(c_props)"
   ]
  },
  {
   "cell_type": "code",
   "execution_count": 12,
   "id": "ebab1b1c-a286-4e65-99da-91566d3e9680",
   "metadata": {},
   "outputs": [],
   "source": [
    "# Actually find properties of lesions\n",
    "label_foo_int = label(label_foo > 0)\n",
    "lesion_props_foo = regionprops(label_foo_int)"
   ]
  },
  {
   "cell_type": "code",
   "execution_count": 17,
   "id": "ba109f44-1930-426e-9d76-9a7f72153c16",
   "metadata": {},
   "outputs": [
    {
     "data": {
      "text/plain": [
       "array([0, 1], dtype=int32)"
      ]
     },
     "execution_count": 17,
     "metadata": {},
     "output_type": "execute_result"
    }
   ],
   "source": [
    "np.unique(label_foo_int)"
   ]
  },
  {
   "cell_type": "code",
   "execution_count": 116,
   "id": "d15550e9-ff0a-4398-aca1-9b60e4ecac5c",
   "metadata": {},
   "outputs": [
    {
     "data": {
      "text/plain": [
       "499"
      ]
     },
     "execution_count": 116,
     "metadata": {},
     "output_type": "execute_result"
    }
   ],
   "source": [
    "lesion_props_foo[0].area"
   ]
  },
  {
   "cell_type": "code",
   "execution_count": 13,
   "id": "81319c78-6d0b-45d7-b181-023d2720fc5f",
   "metadata": {},
   "outputs": [
    {
     "data": {
      "text/plain": [
       "(397, 380, 623, 416, 400, 626)"
      ]
     },
     "execution_count": 13,
     "metadata": {},
     "output_type": "execute_result"
    }
   ],
   "source": [
    "lesion_props_foo[0].bbox"
   ]
  },
  {
   "cell_type": "code",
   "execution_count": 14,
   "id": "410f2282-6e15-4a1e-b366-7347e3bf0fd6",
   "metadata": {},
   "outputs": [
    {
     "data": {
      "text/plain": [
       "(405.08016032064126, 389.9799599198397, 624.0701402805611)"
      ]
     },
     "execution_count": 14,
     "metadata": {},
     "output_type": "execute_result"
    }
   ],
   "source": [
    "lesion_props_foo[0].centroid"
   ]
  },
  {
   "cell_type": "code",
   "execution_count": 145,
   "id": "a55bfdea-8d81-4cdf-a77c-9cb82d1d0759",
   "metadata": {},
   "outputs": [
    {
     "data": {
      "text/plain": [
       "array([405, 389, 624])"
      ]
     },
     "execution_count": 145,
     "metadata": {},
     "output_type": "execute_result"
    }
   ],
   "source": [
    "np.array(tuple(map(int, lesion_props_foo[0].centroid)))"
   ]
  },
  {
   "cell_type": "code",
   "execution_count": 143,
   "id": "3c9dc7bf-07f9-4653-a21f-b681a8158373",
   "metadata": {},
   "outputs": [
    {
     "data": {
      "text/plain": [
       "389.98"
      ]
     },
     "execution_count": 143,
     "metadata": {},
     "output_type": "execute_result"
    }
   ],
   "source": [
    "round(389.9799599198397,2)"
   ]
  },
  {
   "cell_type": "code",
   "execution_count": 119,
   "id": "f0e31306-cca8-49ed-8dfa-c7c0112f3170",
   "metadata": {},
   "outputs": [
    {
     "data": {
      "text/plain": [
       "array([8.08016032, 9.97995992, 1.07014028])"
      ]
     },
     "execution_count": 119,
     "metadata": {},
     "output_type": "execute_result"
    }
   ],
   "source": [
    "lesion_props_foo[0].centroid_local"
   ]
  },
  {
   "cell_type": "code",
   "execution_count": 128,
   "id": "bb169ce3-fa13-4ac7-9057-19795a51993b",
   "metadata": {},
   "outputs": [
    {
     "data": {
      "text/plain": [
       "(499, 3)"
      ]
     },
     "execution_count": 128,
     "metadata": {},
     "output_type": "execute_result"
    }
   ],
   "source": [
    "lesion_props_foo[0].coords.shape"
   ]
  },
  {
   "cell_type": "code",
   "execution_count": 132,
   "id": "6f683ded-da12-4592-b651-ee25867f150b",
   "metadata": {},
   "outputs": [
    {
     "data": {
      "text/plain": [
       "(19, 20, 3)"
      ]
     },
     "execution_count": 132,
     "metadata": {},
     "output_type": "execute_result"
    }
   ],
   "source": [
    "lesion_props_foo[0].image.shape"
   ]
  },
  {
   "cell_type": "code",
   "execution_count": 133,
   "id": "93e8d0c9-0c3b-489d-92b9-4c26d74646f2",
   "metadata": {},
   "outputs": [
    {
     "data": {
      "text/plain": [
       "(array([False,  True]), array([641, 499]))"
      ]
     },
     "execution_count": 133,
     "metadata": {},
     "output_type": "execute_result"
    }
   ],
   "source": [
    "np.unique(lesion_props_foo[0].image, return_counts=True)"
   ]
  },
  {
   "cell_type": "code",
   "execution_count": 134,
   "id": "fbffd6c7-d0e9-438c-aadf-959db42dea1f",
   "metadata": {},
   "outputs": [
    {
     "data": {
      "text/plain": [
       "1"
      ]
     },
     "execution_count": 134,
     "metadata": {},
     "output_type": "execute_result"
    }
   ],
   "source": [
    "lesion_props_foo[0].label"
   ]
  },
  {
   "cell_type": "code",
   "execution_count": 135,
   "id": "b716a2bb-6fc7-49a3-913d-a813752b7fa9",
   "metadata": {},
   "outputs": [
    {
     "data": {
      "text/plain": [
       "(slice(397, 416, None), slice(380, 400, None), slice(623, 626, None))"
      ]
     },
     "execution_count": 135,
     "metadata": {},
     "output_type": "execute_result"
    }
   ],
   "source": [
    "lesion_props_foo[0].slice"
   ]
  },
  {
   "cell_type": "code",
   "execution_count": 41,
   "id": "9613956e-bf8b-4929-9397-ba2e88a82b9f",
   "metadata": {},
   "outputs": [
    {
     "data": {
      "text/plain": [
       "(768, 768, 3)"
      ]
     },
     "execution_count": 41,
     "metadata": {},
     "output_type": "execute_result"
    }
   ],
   "source": [
    "patient_foo[:, :, lesion_props_foo[0].slice[2]].shape"
   ]
  },
  {
   "cell_type": "markdown",
   "id": "7e87e9a0-7a5d-433c-a6d1-bd86893669ee",
   "metadata": {},
   "source": [
    "Need to normalize as follow: <br>\n",
    "bbox-height / image-height <br>\n",
    "bbox-width / image-width <br>\n",
    "bbox-depth / image-depth <br>\n",
    "Also do the same thing with centroid coordinates."
   ]
  },
  {
   "cell_type": "markdown",
   "id": "d80f8ac0-eef7-428a-842b-f57d46f2aaf9",
   "metadata": {},
   "source": [
    "# Bounding boxes with Pytorch"
   ]
  },
  {
   "cell_type": "code",
   "execution_count": 18,
   "id": "55b4ad83-3d62-4c15-9a25-1956eaa2e56c",
   "metadata": {},
   "outputs": [],
   "source": [
    "import torch\n",
    "from torchvision.ops import masks_to_boxes"
   ]
  },
  {
   "cell_type": "code",
   "execution_count": 20,
   "id": "f1b7f313-839c-47dd-b527-c15f4c2ed8ed",
   "metadata": {},
   "outputs": [],
   "source": [
    "b = np.array([[0, 0, 0, 0, 0, 0, 0, 0, 0],\n",
    "              [0, 1, 1, 0, 0, 0, 0, 0, 0],\n",
    "              [0, 1, 1, 0, 0, 0, 0, 0, 0],\n",
    "              [0, 0, 0, 0, 0, 0, 0, 0, 0],\n",
    "              [0, 0, 0, 0, 0, 0, 0, 0, 0],\n",
    "              [0, 0, 0, 0, 0, 0, 0, 0, 0],\n",
    "              [0, 0, 0, 0, 0, 0, 1, 1, 0],\n",
    "              [0, 0, 0, 0, 0, 0, 1, 1, 0],\n",
    "              [0, 0, 0, 0, 0, 0, 0, 0, 0],\n",
    "             ])"
   ]
  },
  {
   "cell_type": "code",
   "execution_count": 22,
   "id": "36678e0f-070c-480f-a5a2-df03aff6f0e9",
   "metadata": {},
   "outputs": [
    {
     "data": {
      "text/plain": [
       "torch.Size([9, 9])"
      ]
     },
     "execution_count": 22,
     "metadata": {},
     "output_type": "execute_result"
    }
   ],
   "source": [
    "b_tensor = torch.tensor(b)\n",
    "b_tensor.shape"
   ]
  },
  {
   "cell_type": "code",
   "execution_count": 23,
   "id": "15c2a7bd-e5ea-43c4-846e-07b6890637a8",
   "metadata": {},
   "outputs": [
    {
     "data": {
      "text/plain": [
       "tensor([[False, False, False, False, False, False, False, False, False],\n",
       "        [False,  True,  True, False, False, False, False, False, False],\n",
       "        [False,  True,  True, False, False, False, False, False, False],\n",
       "        [False, False, False, False, False, False, False, False, False],\n",
       "        [False, False, False, False, False, False, False, False, False],\n",
       "        [False, False, False, False, False, False, False, False, False],\n",
       "        [False, False, False, False, False, False,  True,  True, False],\n",
       "        [False, False, False, False, False, False,  True,  True, False],\n",
       "        [False, False, False, False, False, False, False, False, False]])"
      ]
     },
     "execution_count": 23,
     "metadata": {},
     "output_type": "execute_result"
    }
   ],
   "source": [
    "b_tensor > 0"
   ]
  },
  {
   "cell_type": "markdown",
   "id": "4c2afc2c-d0c7-46a6-9580-841cfdf9cd9b",
   "metadata": {},
   "source": [
    "# Visualize the CT scan and Labels"
   ]
  },
  {
   "cell_type": "code",
   "execution_count": 12,
   "id": "ec056840-7fe8-4802-8713-c44bd27b76ad",
   "metadata": {},
   "outputs": [],
   "source": [
    "ctr = np.array(tuple(map(int, lesion_props_foo[0].centroid)))"
   ]
  },
  {
   "cell_type": "code",
   "execution_count": 150,
   "id": "c9c1f441-f3c4-4aae-82a7-edcd29dab957",
   "metadata": {},
   "outputs": [
    {
     "data": {
      "text/plain": [
       "array([405, 389, 624])"
      ]
     },
     "execution_count": 150,
     "metadata": {},
     "output_type": "execute_result"
    }
   ],
   "source": [
    "ctr"
   ]
  },
  {
   "cell_type": "code",
   "execution_count": 151,
   "id": "6efc4d24-b81a-4bcc-b039-de81c791c075",
   "metadata": {},
   "outputs": [
    {
     "data": {
      "text/plain": [
       "(768, 768)"
      ]
     },
     "execution_count": 151,
     "metadata": {},
     "output_type": "execute_result"
    }
   ],
   "source": [
    "label_foo[:,:,ctr[2]].shape"
   ]
  },
  {
   "cell_type": "code",
   "execution_count": 13,
   "id": "642e829a-dec5-4c58-8412-af39e9b1a509",
   "metadata": {},
   "outputs": [
    {
     "data": {
      "image/png": "[encoded data removed]",
      "text/plain": [
       "<Figure size 432x288 with 2 Axes>"
      ]
     },
     "metadata": {
      "needs_background": "light"
     },
     "output_type": "display_data"
    }
   ],
   "source": [
    "fig, axs = plt.subplots(1,2)\n",
    "plt.gray()\n",
    "axs[0].imshow(patient_foo[:,:,ctr[2]])\n",
    "axs[1].imshow(label_foo[:,:,ctr[2]])\n",
    "plt.show()"
   ]
  },
  {
   "cell_type": "code",
   "execution_count": 15,
   "id": "c6c7a2df-07ca-40a5-8085-8b22376e0545",
   "metadata": {},
   "outputs": [
    {
     "data": {
      "image/png": "[encoded data removed]",
      "text/plain": [
       "<Figure size 432x288 with 2 Axes>"
      ]
     },
     "metadata": {
      "needs_background": "light"
     },
     "output_type": "display_data"
    }
   ],
   "source": [
    "fig, axs = plt.subplots(1,2)\n",
    "plt.gray()\n",
    "axs[0].imshow(patient_foo[:,:,625])\n",
    "axs[1].imshow(label_foo[:,:,625])\n",
    "plt.show()"
   ]
  },
  {
   "cell_type": "code",
   "execution_count": 22,
   "id": "8cd3e25e-04da-4837-93f5-a4744a65c6fa",
   "metadata": {},
   "outputs": [],
   "source": [
    "x_anchor, y_anchor = lesion_props_foo[0].bbox[1], lesion_props_foo[0].bbox[0]\n",
    "bbox_height, bbox_width, _ = lesion_props_foo[0].image.shape"
   ]
  },
  {
   "cell_type": "code",
   "execution_count": 23,
   "id": "2e07d3d6-7cc2-4e1d-aacc-7e63085f8165",
   "metadata": {},
   "outputs": [
    {
     "data": {
      "image/png": "[encoded data removed]",
      "text/plain": [
       "<Figure size 432x288 with 3 Axes>"
      ]
     },
     "metadata": {
      "needs_background": "light"
     },
     "output_type": "display_data"
    }
   ],
   "source": [
    "fig, axs = plt.subplots(1,3)\n",
    "\n",
    "axs[0].imshow(label_foo[:,:,623])\n",
    "axs[1].imshow(label_foo[:,:,624])\n",
    "axs[2].imshow(label_foo[:,:,625])\n",
    "\n",
    "rect_0 = patches.Rectangle((x_anchor, y_anchor), bbox_width, bbox_height, edgecolor = 'r', linewidth = 1)\n",
    "rect_1 = patches.Rectangle((x_anchor, y_anchor), bbox_width, bbox_height, edgecolor = 'r', linewidth = 1)\n",
    "rect_2 = patches.Rectangle((x_anchor, y_anchor), bbox_width, bbox_height, edgecolor = 'r', linewidth = 1)\n",
    "\n",
    "axs[0].add_patch(rect_0)\n",
    "axs[1].add_patch(rect_1)\n",
    "axs[2].add_patch(rect_2)\n",
    "\n",
    "plt.show()"
   ]
  },
  {
   "cell_type": "code",
   "execution_count": 168,
   "id": "3f05f0bc-0d8a-4c49-b5ab-2cb25d9aa74e",
   "metadata": {},
   "outputs": [],
   "source": [
    "scan_cube = patient_foo[lesion_props_foo[0].slice]\n",
    "mask_cube = label_foo[lesion_props_foo[0].slice]"
   ]
  },
  {
   "cell_type": "code",
   "execution_count": 170,
   "id": "51acb521-ac54-40bd-8673-0b58aea61424",
   "metadata": {},
   "outputs": [
    {
     "data": {
      "image/png": "[encoded data removed]",
      "text/plain": [
       "<Figure size 432x288 with 6 Axes>"
      ]
     },
     "metadata": {
      "needs_background": "light"
     },
     "output_type": "display_data"
    }
   ],
   "source": [
    "fig, axs = plt.subplots(2,3)\n",
    "axs[0,0].imshow(scan_cube[int(scan_cube.shape[0]/2),:,:])\n",
    "axs[1,0].imshow(mask_cube[int(mask_cube.shape[0]/2),:,:])\n",
    "axs[0,1].imshow(scan_cube[:,int(scan_cube.shape[1]/2),:])\n",
    "axs[1,1].imshow(mask_cube[:,int(mask_cube.shape[1]/2),:])\n",
    "axs[0,2].imshow(scan_cube[:,:,int(scan_cube.shape[2]/2)])\n",
    "axs[1,2].imshow(mask_cube[:,:,int(mask_cube.shape[2]/2)])\n",
    "plt.show()"
   ]
  },
  {
   "cell_type": "markdown",
   "id": "ef15863b-6d66-42dc-8057-dc80319755f3",
   "metadata": {},
   "source": [
    "# Convert CT scan and labels into images"
   ]
  },
  {
   "cell_type": "code",
   "execution_count": 171,
   "id": "eb4c6142-bb74-4af4-bfda-3699c4a3e47e",
   "metadata": {},
   "outputs": [
    {
     "data": {
      "text/plain": [
       "(768, 768, 633)"
      ]
     },
     "execution_count": 171,
     "metadata": {},
     "output_type": "execute_result"
    }
   ],
   "source": [
    "patient_foo.shape"
   ]
  },
  {
   "cell_type": "code",
   "execution_count": 172,
   "id": "26fee866-2757-46d8-9c79-7034da972200",
   "metadata": {},
   "outputs": [
    {
     "data": {
      "text/plain": [
       "'_0018_'"
      ]
     },
     "execution_count": 172,
     "metadata": {},
     "output_type": "execute_result"
    }
   ],
   "source": [
    "z = 18\n",
    "f\"_{z:04}_\""
   ]
  },
  {
   "cell_type": "code",
   "execution_count": null,
   "id": "2c0e4539-c4f7-4174-9d5b-7f8302b0ed8d",
   "metadata": {},
   "outputs": [],
   "source": [
    "range()"
   ]
  },
  {
   "cell_type": "code",
   "execution_count": 188,
   "id": "97df5982-928f-4799-83bb-296c89982e76",
   "metadata": {},
   "outputs": [
    {
     "data": {
      "text/plain": [
       "<Figure size 432x288 with 0 Axes>"
      ]
     },
     "metadata": {},
     "output_type": "display_data"
    }
   ],
   "source": [
    "cmap = plt.gray()\n",
    "num_slices = patient_foo.shape[2]\n",
    "lesion_start = lesion_props_foo[0].bbox[2]\n",
    "lesion_end = lesion_props_foo[0].bbox[5]\n",
    "for k in range(num_slices): \n",
    "    plt.imsave(os.path.join(PROCESSED_SCANS, \n",
    "                            f\"CTP{patient_num:02}_{'001' if upper_or_whole else '002'}_0000_{k:04}_{1 if k in range(lesion_start, lesion_end) else 0}.png\"), \n",
    "                            patient_foo[:,:,k], \n",
    "                            cmap = cmap)"
   ]
  },
  {
   "cell_type": "code",
   "execution_count": 189,
   "id": "eae76e1e-a155-4f28-8ab3-c7ede4896948",
   "metadata": {},
   "outputs": [
    {
     "data": {
      "text/plain": [
       "<Figure size 432x288 with 0 Axes>"
      ]
     },
     "metadata": {},
     "output_type": "display_data"
    }
   ],
   "source": [
    "cmap = plt.gray()\n",
    "num_slices = label_foo.shape[2]\n",
    "lesion_start = lesion_props_foo[0].bbox[2]\n",
    "lesion_end = lesion_props_foo[0].bbox[5]\n",
    "for k in range(num_slices): \n",
    "    plt.imsave(os.path.join(LABEL_MASKS, \n",
    "                            f\"CTP{patient_num:02}_{'001' if upper_or_whole else '002'}_{k:04}_{1 if k in range(lesion_start, lesion_end) else 0}.png\"), \n",
    "                            label_foo[:,:,k], \n",
    "                            cmap = cmap)"
   ]
  },
  {
   "cell_type": "markdown",
   "id": "64cc1f58-5e99-4d46-8a42-0f50835303b7",
   "metadata": {},
   "source": [
    "# Create training target"
   ]
  },
  {
   "cell_type": "code",
   "execution_count": 211,
   "id": "d5495c36-4428-4b2d-af72-4373041c188b",
   "metadata": {},
   "outputs": [
    {
     "name": "stdout",
     "output_type": "stream",
     "text": [
      "<re.Match object; span=(0, 20), match='CTP02_001_0623_1.png'>\n",
      "<re.Match object; span=(0, 20), match='CTP02_001_0624_1.png'>\n",
      "<re.Match object; span=(0, 20), match='CTP02_001_0625_1.png'>\n"
     ]
    }
   ],
   "source": [
    "n = 0\n",
    "for file in os.listdir(LABEL_MASKS):\n",
    "    #re.search(r'CTP[0-9]{2}_[0-9]{3}_[0-9]{4}_1.png', file)\n",
    "    if re.search(r'.*_1.png', file):\n",
    "        print(re.search(r'.*_1.png', file))"
   ]
  },
  {
   "cell_type": "code",
   "execution_count": 11,
   "id": "2a3d5f73-a9ec-4548-9de3-66669fb1969e",
   "metadata": {},
   "outputs": [
    {
     "data": {
      "text/plain": [
       "'0623_1.png'"
      ]
     },
     "execution_count": 11,
     "metadata": {},
     "output_type": "execute_result"
    }
   ],
   "source": [
    "a = re.search(r'[0-9]{4}_1.png', 'CTP02_001_0623_1.png')\n",
    "a.group(0)"
   ]
  },
  {
   "cell_type": "code",
   "execution_count": 13,
   "id": "b97b74d8-241d-4888-939f-101fe4c34678",
   "metadata": {},
   "outputs": [
    {
     "data": {
      "text/plain": [
       "623"
      ]
     },
     "execution_count": 13,
     "metadata": {},
     "output_type": "execute_result"
    }
   ],
   "source": [
    "int(a.group(0)[:4])"
   ]
  },
  {
   "cell_type": "code",
   "execution_count": 24,
   "id": "c5ad12c0-d2ab-4806-a0e0-0d9097f67820",
   "metadata": {},
   "outputs": [
    {
     "data": {
      "text/plain": [
       "(19, 20)"
      ]
     },
     "execution_count": 24,
     "metadata": {},
     "output_type": "execute_result"
    }
   ],
   "source": [
    "img_height, img_width, _ = label_foo.shape\n",
    "bbox_height, bbox_width, _ = lesion_props_foo[0].image.shape\n",
    "ctr = np.array(tuple(map(int, lesion_props_foo[0].centroid)))\n",
    "bbox_height, bbox_width"
   ]
  },
  {
   "cell_type": "code",
   "execution_count": 25,
   "id": "604398e5-d396-4f88-b1d8-c2fec0c3f7a4",
   "metadata": {},
   "outputs": [
    {
     "data": {
      "text/plain": [
       "array([405, 389, 624])"
      ]
     },
     "execution_count": 25,
     "metadata": {},
     "output_type": "execute_result"
    }
   ],
   "source": [
    "ctr"
   ]
  },
  {
   "cell_type": "code",
   "execution_count": 29,
   "id": "d1bce4a6-d1e8-480c-8ac9-b58f1f118ab5",
   "metadata": {},
   "outputs": [],
   "source": [
    "bbox_height_norm = bbox_height / img_height\n",
    "bbox_width_norm = bbox_width / img_width\n",
    "ctr_x_norm = ctr[1] / img_width\n",
    "ctr_y_norm = ctr[0] / img_height"
   ]
  },
  {
   "cell_type": "code",
   "execution_count": 30,
   "id": "4be9c822-c775-4e47-a606-336c29ca63bb",
   "metadata": {},
   "outputs": [
    {
     "data": {
      "text/plain": [
       "(0.5065104166666666, 0.52734375)"
      ]
     },
     "execution_count": 30,
     "metadata": {},
     "output_type": "execute_result"
    }
   ],
   "source": [
    "ctr_x_norm, ctr_y_norm"
   ]
  },
  {
   "cell_type": "code",
   "execution_count": 31,
   "id": "da62b16e-5335-4525-aa71-c3f791f8346b",
   "metadata": {},
   "outputs": [],
   "source": [
    "for file in os.listdir(LABEL_MASKS):\n",
    "    if re.search(r'.*_1.png', file):\n",
    "        tmp = re.search(r'[0-9]{4}_1.png', file)\n",
    "        k = int(tmp.group(0)[:4])\n",
    "        with open(os.path.join(LABEL_TARGET, f\"CTP{patient_num:02}_{'001' if upper_or_whole else '002'}_{k:04}_1.txt\"), \"w\") as f:\n",
    "            f.write(f\"0 {ctr_x_norm} {ctr_y_norm} {bbox_width_norm} {bbox_height_norm}\")\n",
    "            "
   ]
  },
  {
   "cell_type": "code",
   "execution_count": 56,
   "id": "901d875f-2b06-41d5-ad2c-1cea4193fcbf",
   "metadata": {},
   "outputs": [
    {
     "data": {
      "text/plain": [
       "1"
      ]
     },
     "execution_count": 56,
     "metadata": {},
     "output_type": "execute_result"
    }
   ],
   "source": [
    "img = imageio.imread(os.path.join(DEMO_FOLDER, \"masks_demo\", \"CTP02_001_0000_0.png\"))\n",
    "props_label = label(img)\n",
    "props = regionprops(props_label)\n",
    "len(props)"
   ]
  },
  {
   "cell_type": "code",
   "execution_count": 55,
   "id": "4a7b54d5-f9fa-45d9-80e6-63a514b089fc",
   "metadata": {},
   "outputs": [
    {
     "data": {
      "text/plain": [
       "(Array([  0, 255], dtype=uint8), array([1769472,  589824]))"
      ]
     },
     "execution_count": 55,
     "metadata": {},
     "output_type": "execute_result"
    }
   ],
   "source": [
    "np.unique(img, return_counts=True)"
   ]
  },
  {
   "cell_type": "markdown",
   "id": "18991935-c0b6-4e5c-b427-120cc1c578b2",
   "metadata": {},
   "source": [
    "# Others"
   ]
  },
  {
   "cell_type": "code",
   "execution_count": 50,
   "id": "b255e8dc-2288-4e68-99f5-5e71ed7ca200",
   "metadata": {},
   "outputs": [
    {
     "data": {
      "text/plain": [
       "(torch.Size([1, 768, 768]), torch.Size([1, 768, 768]))"
      ]
     },
     "execution_count": 50,
     "metadata": {},
     "output_type": "execute_result"
    }
   ],
   "source": [
    "from skimage.measure import label, regionprops\n",
    "import torchvision.io\n",
    "from torchvision.io import read_image\n",
    "from skimage.io import imread\n",
    "import torchvision.transforms as T\n",
    "import numpy as np\n",
    "import os\n",
    "\n",
    "AUG_MASKS = os.path.join(ROOT, 'ct_processed_aug', 'masks')\n",
    "AUG_IMGS = os.path.join(ROOT, 'ct_processed_aug', 'images')\n",
    "ex_mask = read_image(os.path.join(AUG_MASKS, 'CTP02_001_0623.png'), mode = torchvision.io.ImageReadMode.GRAY)\n",
    "ex_img = read_image(os.path.join(AUG_IMGS, 'CTP02_001_0000_0623.png'), mode = torchvision.io.ImageReadMode.GRAY)\n",
    "ex_img.shape, ex_mask.shape"
   ]
  },
  {
   "cell_type": "code",
   "execution_count": 54,
   "id": "ee2aad74-1abb-4a2e-9a02-444aa0176b23",
   "metadata": {},
   "outputs": [
    {
     "data": {
      "text/plain": [
       "(array([  0, 255], dtype=uint8), array([589726,     98]))"
      ]
     },
     "execution_count": 54,
     "metadata": {},
     "output_type": "execute_result"
    }
   ],
   "source": [
    "np.unique(ex_mask, return_counts=True)"
   ]
  },
  {
   "cell_type": "code",
   "execution_count": 55,
   "id": "95412314-a3d8-476f-98e4-84e8eeeb98fe",
   "metadata": {},
   "outputs": [],
   "source": [
    "ex_label_mask= label(ex_mask.squeeze(), background = 0)\n",
    "ex_region_img = regionprops(ex_label_img)"
   ]
  },
  {
   "cell_type": "code",
   "execution_count": 56,
   "id": "029eb32d-bd65-40d4-86f5-88f6136855d9",
   "metadata": {},
   "outputs": [
    {
     "data": {
      "text/plain": [
       "(406, 385, 416, 398)"
      ]
     },
     "execution_count": 56,
     "metadata": {},
     "output_type": "execute_result"
    }
   ],
   "source": [
    "ex_region_mask[0].bbox"
   ]
  },
  {
   "cell_type": "code",
   "execution_count": 40,
   "id": "43502008-b360-478c-a18b-9e334321c7a3",
   "metadata": {},
   "outputs": [
    {
     "data": {
      "text/plain": [
       "torch.Size([768, 768])"
      ]
     },
     "execution_count": 40,
     "metadata": {},
     "output_type": "execute_result"
    }
   ],
   "source": [
    "torch.tensor(ex_img).shape"
   ]
  },
  {
   "cell_type": "code",
   "execution_count": 51,
   "id": "39e18b32-4fb1-4e13-b319-1a78a6712c9a",
   "metadata": {},
   "outputs": [
    {
     "data": {
      "text/plain": [
       "tensor([[[0, 0, 0,  ..., 0, 0, 0],\n",
       "         [0, 0, 0,  ..., 0, 0, 0],\n",
       "         [0, 0, 0,  ..., 0, 0, 0],\n",
       "         ...,\n",
       "         [0, 0, 0,  ..., 0, 0, 0],\n",
       "         [0, 0, 0,  ..., 0, 0, 0],\n",
       "         [0, 0, 0,  ..., 0, 0, 0]]], dtype=torch.uint8)"
      ]
     },
     "execution_count": 51,
     "metadata": {},
     "output_type": "execute_result"
    }
   ],
   "source": [
    "TF.rotate(ex_mask, angle = 30)"
   ]
  },
  {
   "cell_type": "code",
   "execution_count": 60,
   "id": "882b48e5-9a52-456f-9351-a94bedd813ce",
   "metadata": {},
   "outputs": [
    {
     "data": {
      "image/png": "[encoded data removed]",
      "text/plain": [
       "<Figure size 1152x864 with 4 Axes>"
      ]
     },
     "metadata": {
      "needs_background": "light"
     },
     "output_type": "display_data"
    }
   ],
   "source": [
    "import matplotlib.pyplot as plt\n",
    "import random\n",
    "import torchvision.transforms.functional as TF\n",
    "import torch\n",
    "import matplotlib\n",
    "\n",
    "rand_deg = random.uniform(-30,30)\n",
    "rotated_ex_imgs = [TF.rotate(ex_img,angle= rand_deg) for _ in range(4)]\n",
    "\n",
    "fig, axs = plt.subplots(1,4, figsize = (16,12))\n",
    "for i in range(4):\n",
    "    axs[i].imshow(rotated_ex_imgs[i].squeeze(), cmap = 'gray')"
   ]
  },
  {
   "cell_type": "code",
   "execution_count": 63,
   "id": "f3ecd905-cbd0-4f94-a504-37b03426ed5a",
   "metadata": {},
   "outputs": [
    {
     "name": "stdout",
     "output_type": "stream",
     "text": [
      "2813\n"
     ]
    },
    {
     "data": {
      "text/plain": [
       "0"
      ]
     },
     "execution_count": 63,
     "metadata": {},
     "output_type": "execute_result"
    }
   ],
   "source": [
    "AUG_TARGETS = os.path.join(ROOT, 'ct_processed_aug', 'labels')\n",
    "os.system(f\"cat {AUG_TARGETS}/* | wc -l\")"
   ]
  }
 ],
 "metadata": {
  "kernelspec": {
   "display_name": "Python 3 (ipykernel)",
   "language": "python",
   "name": "python3"
  },
  "language_info": {
   "codemirror_mode": {
    "name": "ipython",
    "version": 3
   },
   "file_extension": ".py",
   "mimetype": "text/x-python",
   "name": "python",
   "nbconvert_exporter": "python",
   "pygments_lexer": "ipython3",
   "version": "3.9.7"
  }
 },
 "nbformat": 4,
 "nbformat_minor": 5
}
