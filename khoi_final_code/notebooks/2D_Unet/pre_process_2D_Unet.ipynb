{
 "cells": [
  {
   "cell_type": "code",
   "execution_count": 8,
   "id": "cfb62ae5-a688-454e-b992-ebe20b6579f2",
   "metadata": {},
   "outputs": [],
   "source": [
    "from pathlib import Path\n",
    "import sys\n",
    "sys.path.append(\"/wecare/home/khoi/thesis/\")"
   ]
  },
  {
   "cell_type": "code",
   "execution_count": 6,
   "id": "a90ae45d-09ef-4944-80c0-d1eaa36b6c1c",
   "metadata": {},
   "outputs": [
    {
     "data": {
      "text/plain": [
       "'/wecare/home/khoi/thesis/models'"
      ]
     },
     "execution_count": 6,
     "metadata": {},
     "output_type": "execute_result"
    }
   ],
   "source": [
    "str(Path(\"/wecare/home/khoi\") / \"thesis/models\")"
   ]
  },
  {
   "cell_type": "code",
   "execution_count": 11,
   "id": "e7c0f09d-0032-488e-93ee-9f7800a31b0e",
   "metadata": {},
   "outputs": [],
   "source": [
    "from utils.data_path import *\n",
    "from utils.lesion_tools import unnormalize_lesion_props\n",
    "from pathlib import Path\n",
    "import matplotlib.pyplot as plt\n",
    "from torchvision.transforms.functional import crop\n",
    "from torchvision.io import read_image\n",
    "import torchvision.io\n",
    "from math import ceil"
   ]
  },
  {
   "cell_type": "code",
   "execution_count": 14,
   "id": "2da93b0a-e652-4ee5-ab29-a0846832fa97",
   "metadata": {},
   "outputs": [
    {
     "data": {
      "text/plain": [
       "<matplotlib.image.AxesImage at 0x7f633528e7c0>"
      ]
     },
     "execution_count": 14,
     "metadata": {},
     "output_type": "execute_result"
    },
    {
     "data": {
      "image/png": "[encoded data removed]",
      "text/plain": [
       "<Figure size 640x480 with 1 Axes>"
      ]
     },
     "metadata": {
      "needs_background": "light"
     },
     "output_type": "display_data"
    }
   ],
   "source": [
    "mask = read_image(str(Path(AUGMENTED_MASKS) / f\"fold_2\" / f\"CTP07_001_0373_aug02.png\"), mode = torchvision.io.ImageReadMode.GRAY)[0]\n",
    "_, center_x, center_y, bbox_width, bbox_height = map(float, \"0 0.5924479166666666 0.7513020833333334 0.01953125 0.014322916666666666\".split(\" \"))\n",
    "props_unnorm = unnormalize_lesion_props((center_x, center_y), (bbox_width, bbox_height), (768, 768)) \n",
    "top = ceil(props_unnorm[0][1] - (props_unnorm[1][1] / 2))\n",
    "left = ceil(props_unnorm[0][0] - (props_unnorm[1][0] / 2))\n",
    "cropped_mask = crop(mask, top = top, left = left, height=ceil(props_unnorm[1][1]), width= ceil(props_unnorm[1][0]))\n",
    "plt.figure(figsize = (8,6), dpi = 80)\n",
    "plt.imshow(cropped_mask, cmap = plt.gray())"
   ]
  },
  {
   "cell_type": "code",
   "execution_count": 18,
   "id": "e30624f4-491a-4e78-b2bd-17461ae95415",
   "metadata": {},
   "outputs": [
    {
     "data": {
      "text/plain": [
       "<matplotlib.image.AxesImage at 0x7f63330f5cd0>"
      ]
     },
     "execution_count": 18,
     "metadata": {},
     "output_type": "execute_result"
    },
    {
     "data": {
      "image/png": "[encoded data removed]",
      "text/plain": [
       "<Figure size 640x480 with 1 Axes>"
      ]
     },
     "metadata": {
      "needs_background": "light"
     },
     "output_type": "display_data"
    }
   ],
   "source": [
    "mask = read_image(str(Path(AUGMENTED_MASKS) / f\"fold_2\" / f\"CTP07_001_0373_aug02.png\"), mode = torchvision.io.ImageReadMode.GRAY)[0]\n",
    "_, center_x, center_y, bbox_width, bbox_height = map(float, \"0 0.593099 0.751302 0.0195312 0.0130208\".split(\" \"))\n",
    "props_unnorm = unnormalize_lesion_props((center_x, center_y), (bbox_width, bbox_height), (768, 768)) \n",
    "top = ceil(props_unnorm[0][1] - (props_unnorm[1][1] / 2))\n",
    "left = ceil(props_unnorm[0][0] - (props_unnorm[1][0] / 2))\n",
    "cropped_mask = crop(mask, top = top, left = left, height=int(props_unnorm[1][1]), width= int(props_unnorm[1][0]))\n",
    "plt.figure(figsize = (8,6), dpi = 80)\n",
    "plt.imshow(cropped_mask, cmap = plt.gray())"
   ]
  },
  {
   "cell_type": "code",
   "execution_count": 15,
   "id": "7fcc3620-950e-488a-914c-e14accfeb6e6",
   "metadata": {},
   "outputs": [
    {
     "data": {
      "text/plain": [
       "<matplotlib.image.AxesImage at 0x7f63331df190>"
      ]
     },
     "execution_count": 15,
     "metadata": {},
     "output_type": "execute_result"
    },
    {
     "data": {
      "image/png": "[encoded data removed]",
      "text/plain": [
       "<Figure size 640x480 with 1 Axes>"
      ]
     },
     "metadata": {
      "needs_background": "light"
     },
     "output_type": "display_data"
    }
   ],
   "source": [
    "mask = read_image(str(Path(AUGMENTED_MASKS) / f\"fold_2\" / f\"CTP07_001_0373_aug02.png\"), mode = torchvision.io.ImageReadMode.GRAY)[0]\n",
    "_, center_x, center_y, bbox_width, bbox_height = map(float, \"0 0.593099 0.751302 0.0195312 0.0130208\".split(\" \"))\n",
    "props_unnorm = unnormalize_lesion_props((center_x, center_y), (bbox_width, bbox_height), (768, 768)) \n",
    "top = ceil(props_unnorm[0][1] - (props_unnorm[1][1] / 2))\n",
    "left = ceil(props_unnorm[0][0] - (props_unnorm[1][0] / 2))\n",
    "cropped_mask = crop(mask, top = top, left = left, height=(props_unnorm[1][1]), width= ceil(props_unnorm[1][0]))\n",
    "plt.figure(figsize = (8,6), dpi = 80)\n",
    "plt.imshow(cropped_mask, cmap = plt.gray())"
   ]
  }
 ],
 "metadata": {
  "kernelspec": {
   "display_name": "Python 3 (ipykernel)",
   "language": "python",
   "name": "python3"
  },
  "language_info": {
   "codemirror_mode": {
    "name": "ipython",
    "version": 3
   },
   "file_extension": ".py",
   "mimetype": "text/x-python",
   "name": "python",
   "nbconvert_exporter": "python",
   "pygments_lexer": "ipython3",
   "version": "3.9.7"
  }
 },
 "nbformat": 4,
 "nbformat_minor": 5
}
